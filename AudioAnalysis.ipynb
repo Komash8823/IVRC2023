{
  "cells": [
    {
      "cell_type": "code",
      "execution_count": 2,
      "metadata": {
        "colab": {
          "base_uri": "https://localhost:8080/"
        },
        "id": "QqbPjDNTLk6H",
        "outputId": "2990ee3e-7c3c-43b1-ba95-cf686bda419e"
      },
      "outputs": [
        {
          "name": "stdout",
          "output_type": "stream",
          "text": [
            "Mounted at /content/drive\n"
          ]
        }
      ],
      "source": [
        "from google.colab import drive\n",
        "drive.mount('/content/drive')"
      ]
    },
    {
      "cell_type": "code",
      "execution_count": 3,
      "metadata": {
        "colab": {
          "base_uri": "https://localhost:8080/"
        },
        "id": "dhVS4IEnMYY9",
        "outputId": "afa3684a-e750-4b71-cde7-77e59f764076"
      },
      "outputs": [
        {
          "name": "stdout",
          "output_type": "stream",
          "text": [
            "Collecting pydub\n",
            "  Downloading pydub-0.25.1-py2.py3-none-any.whl (32 kB)\n",
            "Installing collected packages: pydub\n",
            "Successfully installed pydub-0.25.1\n"
          ]
        }
      ],
      "source": [
        "!pip install pydub"
      ]
    },
    {
      "cell_type": "code",
      "execution_count": 2,
      "metadata": {
        "id": "PWfNY5OmarnU"
      },
      "outputs": [],
      "source": [
        "import matplotlib.pyplot as plt\n",
        "import numpy as np\n",
        "from pydub import AudioSegment\n",
        "import wave\n",
        "import numpy as np\n",
        "import matplotlib.pyplot as plt\n",
        "import librosa\n",
        "import scipy.signal\n"
      ]
    },
    {
      "cell_type": "code",
      "execution_count": 20,
      "metadata": {
        "id": "NHl7UG4Kb9bu"
      },
      "outputs": [
        {
          "name": "stderr",
          "output_type": "stream",
          "text": [
            "/Users/ishikawaritsuki/.pyenv/versions/3.10.6/lib/python3.10/site-packages/pydub/utils.py:198: RuntimeWarning: Couldn't find ffprobe or avprobe - defaulting to ffprobe, but may not work\n",
            "  warn(\"Couldn't find ffprobe or avprobe - defaulting to ffprobe, but may not work\", RuntimeWarning)\n"
          ]
        },
        {
          "ename": "FileNotFoundError",
          "evalue": "[Errno 2] No such file or directory: 'ffprobe'",
          "output_type": "error",
          "traceback": [
            "\u001b[0;31m---------------------------------------------------------------------------\u001b[0m",
            "\u001b[0;31mFileNotFoundError\u001b[0m                         Traceback (most recent call last)",
            "\u001b[1;32m/Users/ishikawaritsuki/Desktop/IVRC/arduino/AudioAnalysis.ipynb セル 4\u001b[0m line \u001b[0;36m6\n\u001b[1;32m      <a href='vscode-notebook-cell:/Users/ishikawaritsuki/Desktop/IVRC/arduino/AudioAnalysis.ipynb#X31sZmlsZQ%3D%3D?line=3'>4</a>\u001b[0m os\u001b[39m.\u001b[39menviron[\u001b[39m\"\u001b[39m\u001b[39mPATH\u001b[39m\u001b[39m\"\u001b[39m] \u001b[39m+\u001b[39m\u001b[39m=\u001b[39m os\u001b[39m.\u001b[39mpathsep \u001b[39m+\u001b[39m os\u001b[39m.\u001b[39mpath\u001b[39m.\u001b[39mdirname(ffmpeg_path)\n\u001b[1;32m      <a href='vscode-notebook-cell:/Users/ishikawaritsuki/Desktop/IVRC/arduino/AudioAnalysis.ipynb#X31sZmlsZQ%3D%3D?line=4'>5</a>\u001b[0m input_path \u001b[39m=\u001b[39m \u001b[39m'\u001b[39m\u001b[39m./rain.mp3\u001b[39m\u001b[39m'\u001b[39m\n\u001b[0;32m----> <a href='vscode-notebook-cell:/Users/ishikawaritsuki/Desktop/IVRC/arduino/AudioAnalysis.ipynb#X31sZmlsZQ%3D%3D?line=5'>6</a>\u001b[0m sounds \u001b[39m=\u001b[39m AudioSegment\u001b[39m.\u001b[39;49mfrom_file(input_path, \u001b[39m'\u001b[39;49m\u001b[39mmp3\u001b[39;49m\u001b[39m'\u001b[39;49m)\n",
            "File \u001b[0;32m~/.pyenv/versions/3.10.6/lib/python3.10/site-packages/pydub/audio_segment.py:728\u001b[0m, in \u001b[0;36mAudioSegment.from_file\u001b[0;34m(cls, file, format, codec, parameters, start_second, duration, **kwargs)\u001b[0m\n\u001b[1;32m    726\u001b[0m     info \u001b[39m=\u001b[39m \u001b[39mNone\u001b[39;00m\n\u001b[1;32m    727\u001b[0m \u001b[39melse\u001b[39;00m:\n\u001b[0;32m--> 728\u001b[0m     info \u001b[39m=\u001b[39m mediainfo_json(orig_file, read_ahead_limit\u001b[39m=\u001b[39;49mread_ahead_limit)\n\u001b[1;32m    729\u001b[0m \u001b[39mif\u001b[39;00m info:\n\u001b[1;32m    730\u001b[0m     audio_streams \u001b[39m=\u001b[39m [x \u001b[39mfor\u001b[39;00m x \u001b[39min\u001b[39;00m info[\u001b[39m'\u001b[39m\u001b[39mstreams\u001b[39m\u001b[39m'\u001b[39m]\n\u001b[1;32m    731\u001b[0m                      \u001b[39mif\u001b[39;00m x[\u001b[39m'\u001b[39m\u001b[39mcodec_type\u001b[39m\u001b[39m'\u001b[39m] \u001b[39m==\u001b[39m \u001b[39m'\u001b[39m\u001b[39maudio\u001b[39m\u001b[39m'\u001b[39m]\n",
            "File \u001b[0;32m~/.pyenv/versions/3.10.6/lib/python3.10/site-packages/pydub/utils.py:274\u001b[0m, in \u001b[0;36mmediainfo_json\u001b[0;34m(filepath, read_ahead_limit)\u001b[0m\n\u001b[1;32m    271\u001b[0m         file\u001b[39m.\u001b[39mclose()\n\u001b[1;32m    273\u001b[0m command \u001b[39m=\u001b[39m [prober, \u001b[39m'\u001b[39m\u001b[39m-of\u001b[39m\u001b[39m'\u001b[39m, \u001b[39m'\u001b[39m\u001b[39mjson\u001b[39m\u001b[39m'\u001b[39m] \u001b[39m+\u001b[39m command_args\n\u001b[0;32m--> 274\u001b[0m res \u001b[39m=\u001b[39m Popen(command, stdin\u001b[39m=\u001b[39;49mstdin_parameter, stdout\u001b[39m=\u001b[39;49mPIPE, stderr\u001b[39m=\u001b[39;49mPIPE)\n\u001b[1;32m    275\u001b[0m output, stderr \u001b[39m=\u001b[39m res\u001b[39m.\u001b[39mcommunicate(\u001b[39minput\u001b[39m\u001b[39m=\u001b[39mstdin_data)\n\u001b[1;32m    276\u001b[0m output \u001b[39m=\u001b[39m output\u001b[39m.\u001b[39mdecode(\u001b[39m\"\u001b[39m\u001b[39mutf-8\u001b[39m\u001b[39m\"\u001b[39m, \u001b[39m'\u001b[39m\u001b[39mignore\u001b[39m\u001b[39m'\u001b[39m)\n",
            "File \u001b[0;32m~/.pyenv/versions/3.10.6/lib/python3.10/subprocess.py:969\u001b[0m, in \u001b[0;36mPopen.__init__\u001b[0;34m(self, args, bufsize, executable, stdin, stdout, stderr, preexec_fn, close_fds, shell, cwd, env, universal_newlines, startupinfo, creationflags, restore_signals, start_new_session, pass_fds, user, group, extra_groups, encoding, errors, text, umask, pipesize)\u001b[0m\n\u001b[1;32m    965\u001b[0m         \u001b[39mif\u001b[39;00m \u001b[39mself\u001b[39m\u001b[39m.\u001b[39mtext_mode:\n\u001b[1;32m    966\u001b[0m             \u001b[39mself\u001b[39m\u001b[39m.\u001b[39mstderr \u001b[39m=\u001b[39m io\u001b[39m.\u001b[39mTextIOWrapper(\u001b[39mself\u001b[39m\u001b[39m.\u001b[39mstderr,\n\u001b[1;32m    967\u001b[0m                     encoding\u001b[39m=\u001b[39mencoding, errors\u001b[39m=\u001b[39merrors)\n\u001b[0;32m--> 969\u001b[0m     \u001b[39mself\u001b[39;49m\u001b[39m.\u001b[39;49m_execute_child(args, executable, preexec_fn, close_fds,\n\u001b[1;32m    970\u001b[0m                         pass_fds, cwd, env,\n\u001b[1;32m    971\u001b[0m                         startupinfo, creationflags, shell,\n\u001b[1;32m    972\u001b[0m                         p2cread, p2cwrite,\n\u001b[1;32m    973\u001b[0m                         c2pread, c2pwrite,\n\u001b[1;32m    974\u001b[0m                         errread, errwrite,\n\u001b[1;32m    975\u001b[0m                         restore_signals,\n\u001b[1;32m    976\u001b[0m                         gid, gids, uid, umask,\n\u001b[1;32m    977\u001b[0m                         start_new_session)\n\u001b[1;32m    978\u001b[0m \u001b[39mexcept\u001b[39;00m:\n\u001b[1;32m    979\u001b[0m     \u001b[39m# Cleanup if the child failed starting.\u001b[39;00m\n\u001b[1;32m    980\u001b[0m     \u001b[39mfor\u001b[39;00m f \u001b[39min\u001b[39;00m \u001b[39mfilter\u001b[39m(\u001b[39mNone\u001b[39;00m, (\u001b[39mself\u001b[39m\u001b[39m.\u001b[39mstdin, \u001b[39mself\u001b[39m\u001b[39m.\u001b[39mstdout, \u001b[39mself\u001b[39m\u001b[39m.\u001b[39mstderr)):\n",
            "File \u001b[0;32m~/.pyenv/versions/3.10.6/lib/python3.10/subprocess.py:1845\u001b[0m, in \u001b[0;36mPopen._execute_child\u001b[0;34m(self, args, executable, preexec_fn, close_fds, pass_fds, cwd, env, startupinfo, creationflags, shell, p2cread, p2cwrite, c2pread, c2pwrite, errread, errwrite, restore_signals, gid, gids, uid, umask, start_new_session)\u001b[0m\n\u001b[1;32m   1843\u001b[0m     \u001b[39mif\u001b[39;00m errno_num \u001b[39m!=\u001b[39m \u001b[39m0\u001b[39m:\n\u001b[1;32m   1844\u001b[0m         err_msg \u001b[39m=\u001b[39m os\u001b[39m.\u001b[39mstrerror(errno_num)\n\u001b[0;32m-> 1845\u001b[0m     \u001b[39mraise\u001b[39;00m child_exception_type(errno_num, err_msg, err_filename)\n\u001b[1;32m   1846\u001b[0m \u001b[39mraise\u001b[39;00m child_exception_type(err_msg)\n",
            "\u001b[0;31mFileNotFoundError\u001b[0m: [Errno 2] No such file or directory: 'ffprobe'"
          ]
        }
      ],
      "source": [
        "# ボイスメモで収録したファイルを読み込む\n",
        "input_path = '/content/drive/My Drive/IVRC/rain.mp3'\n",
        "sounds = AudioSegment.from_file(input_path, 'mp3')"
      ]
    },
    {
      "cell_type": "code",
      "execution_count": 6,
      "metadata": {
        "colab": {
          "base_uri": "https://localhost:8080/",
          "height": 69
        },
        "id": "D0CIAXlJMoeL",
        "outputId": "f7e2c630-10ad-4f2c-afca-32ed8b22ca41"
      },
      "outputs": [
        {
          "ename": "NameError",
          "evalue": "name 'sounds' is not defined",
          "output_type": "error",
          "traceback": [
            "\u001b[0;31m---------------------------------------------------------------------------\u001b[0m",
            "\u001b[0;31mNameError\u001b[0m                                 Traceback (most recent call last)",
            "\u001b[1;32m/Users/ishikawaritsuki/Desktop/IVRC/arduino/AudioAnalysis.ipynb セル 5\u001b[0m line \u001b[0;36m8\n\u001b[1;32m      <a href='vscode-notebook-cell:/Users/ishikawaritsuki/Desktop/IVRC/arduino/AudioAnalysis.ipynb#X32sZmlsZQ%3D%3D?line=0'>1</a>\u001b[0m \u001b[39m# 基本情報の表示\u001b[39;00m\n\u001b[1;32m      <a href='vscode-notebook-cell:/Users/ishikawaritsuki/Desktop/IVRC/arduino/AudioAnalysis.ipynb#X32sZmlsZQ%3D%3D?line=1'>2</a>\u001b[0m \u001b[39m#　　音声波形の表示\u001b[39;00m\n\u001b[1;32m      <a href='vscode-notebook-cell:/Users/ishikawaritsuki/Desktop/IVRC/arduino/AudioAnalysis.ipynb#X32sZmlsZQ%3D%3D?line=2'>3</a>\u001b[0m \u001b[39m#print(f'channel: {sounds.channels}')\u001b[39;00m\n\u001b[0;32m   (...)\u001b[0m\n\u001b[1;32m      <a href='vscode-notebook-cell:/Users/ishikawaritsuki/Desktop/IVRC/arduino/AudioAnalysis.ipynb#X32sZmlsZQ%3D%3D?line=5'>6</a>\u001b[0m \u001b[39m# チャンネルが2 （ステレオ) の場合，交互にデータが入っているので，二つおきに読み出す。\u001b[39;00m\n\u001b[1;32m      <a href='vscode-notebook-cell:/Users/ishikawaritsuki/Desktop/IVRC/arduino/AudioAnalysis.ipynb#X32sZmlsZQ%3D%3D?line=6'>7</a>\u001b[0m \u001b[39m# ただし，今回の場合はモノラルのはず。つまり，sounds.channels = 1\u001b[39;00m\n\u001b[0;32m----> <a href='vscode-notebook-cell:/Users/ishikawaritsuki/Desktop/IVRC/arduino/AudioAnalysis.ipynb#X32sZmlsZQ%3D%3D?line=7'>8</a>\u001b[0m sig \u001b[39m=\u001b[39m np\u001b[39m.\u001b[39marray(sounds\u001b[39m.\u001b[39mget_array_of_samples())[::sounds\u001b[39m.\u001b[39mchannels]\n\u001b[1;32m      <a href='vscode-notebook-cell:/Users/ishikawaritsuki/Desktop/IVRC/arduino/AudioAnalysis.ipynb#X32sZmlsZQ%3D%3D?line=8'>9</a>\u001b[0m dt \u001b[39m=\u001b[39m \u001b[39m1.0\u001b[39m\u001b[39m/\u001b[39msounds\u001b[39m.\u001b[39mframe_rate \u001b[39m# サンプリング時間\u001b[39;00m\n\u001b[1;32m     <a href='vscode-notebook-cell:/Users/ishikawaritsuki/Desktop/IVRC/arduino/AudioAnalysis.ipynb#X32sZmlsZQ%3D%3D?line=9'>10</a>\u001b[0m \u001b[39m# 時間アレイを作る\u001b[39;00m\n",
            "\u001b[0;31mNameError\u001b[0m: name 'sounds' is not defined"
          ]
        }
      ],
      "source": [
        "# 基本情報の表示\n",
        "#　　音声波形の表示\n",
        "#print(f'channel: {sounds.channels}')\n",
        "#print(f'frame rate: {sounds.frame_rate}')\n",
        "#print(f'duration: {sounds.duration_seconds} s')\n",
        "# チャンネルが2 （ステレオ) の場合，交互にデータが入っているので，二つおきに読み出す。\n",
        "# ただし，今回の場合はモノラルのはず。つまり，sounds.channels = 1\n",
        "sig = np.array(sounds.get_array_of_samples())[::sounds.channels]\n",
        "dt = 1.0/sounds.frame_rate # サンプリング時間\n",
        "# 時間アレイを作る\n",
        "tms = 0.0 # サンプル開始時間を0にセット\n",
        "tme = sounds.duration_seconds # サンプル終了時刻\n",
        "tm = np.linspace(tms, tme, len(sig), endpoint=False) # 時間ndarrayを作成\n",
        "# DFT\n",
        "N = len(sig)\n",
        "X = np.fft.fft(sig)\n",
        "f = np.fft.fftfreq(N, dt) # Xのindexに対応する周波数のndarrayを取得\n",
        "# データをプロット\n",
        "'''\n",
        "fig, (ax01, ax02) = plt.subplots(nrows=2, figsize=(12, 8))\n",
        "plt.subplots_adjust(wspace=0.0, hspace=0.6)\n",
        "ax01.set_xlim(tms, tme)\n",
        "ax01.set_xlabel('time (s)')\n",
        "ax01.set_ylabel('x')\n",
        "#ax01.plot(tm, sig) # 入力信号\n",
        "ax02.set_xlim(0, 2000)\n",
        "ax02.set_xlabel('frequency (Hz)')\n",
        "ax02.set_ylabel('|X|/N')\n",
        "#ax02.plot(f[0:N//2], np.abs(X[0:N//2])/N) # 振幅スペクトル\n",
        "#plt.show()\n",
        "'''"
      ]
    },
    {
      "cell_type": "code",
      "execution_count": 7,
      "metadata": {
        "colab": {
          "base_uri": "https://localhost:8080/",
          "height": 34
        },
        "id": "DHyuthWSaBI2",
        "outputId": "99d3a8a7-4cb6-40e3-935f-c5c6f665ef57"
      },
      "outputs": [
        {
          "ename": "NameError",
          "evalue": "name 'sig' is not defined",
          "output_type": "error",
          "traceback": [
            "\u001b[0;31m---------------------------------------------------------------------------\u001b[0m",
            "\u001b[0;31mNameError\u001b[0m                                 Traceback (most recent call last)",
            "\u001b[1;32m/Users/ishikawaritsuki/Desktop/IVRC/arduino/AudioAnalysis.ipynb セル 6\u001b[0m line \u001b[0;36m4\n\u001b[1;32m      <a href='vscode-notebook-cell:/Users/ishikawaritsuki/Desktop/IVRC/arduino/AudioAnalysis.ipynb#X33sZmlsZQ%3D%3D?line=1'>2</a>\u001b[0m fft_size \u001b[39m=\u001b[39m \u001b[39m1024\u001b[39m\n\u001b[1;32m      <a href='vscode-notebook-cell:/Users/ishikawaritsuki/Desktop/IVRC/arduino/AudioAnalysis.ipynb#X33sZmlsZQ%3D%3D?line=2'>3</a>\u001b[0m plt\u001b[39m.\u001b[39mfigure()\n\u001b[0;32m----> <a href='vscode-notebook-cell:/Users/ishikawaritsuki/Desktop/IVRC/arduino/AudioAnalysis.ipynb#X33sZmlsZQ%3D%3D?line=3'>4</a>\u001b[0m hh \u001b[39m=\u001b[39m ([i \u001b[39mfor\u001b[39;00m i, x \u001b[39min\u001b[39;00m \u001b[39menumerate\u001b[39m(sig) \u001b[39mif\u001b[39;00m x \u001b[39m>\u001b[39m \u001b[39m20\u001b[39m])\n\u001b[1;32m      <a href='vscode-notebook-cell:/Users/ishikawaritsuki/Desktop/IVRC/arduino/AudioAnalysis.ipynb#X33sZmlsZQ%3D%3D?line=4'>5</a>\u001b[0m st\u001b[39m=\u001b[39m(hh[\u001b[39m0\u001b[39m])\n\u001b[1;32m      <a href='vscode-notebook-cell:/Users/ishikawaritsuki/Desktop/IVRC/arduino/AudioAnalysis.ipynb#X33sZmlsZQ%3D%3D?line=5'>6</a>\u001b[0m ed\u001b[39m=\u001b[39m(hh[\u001b[39m-\u001b[39m\u001b[39m1\u001b[39m])\n",
            "\u001b[0;31mNameError\u001b[0m: name 'sig' is not defined"
          ]
        },
        {
          "data": {
            "text/plain": [
              "<Figure size 640x480 with 0 Axes>"
            ]
          },
          "metadata": {},
          "output_type": "display_data"
        }
      ],
      "source": [
        "# 波形カット\n",
        "fft_size = 1024\n",
        "plt.figure()\n",
        "hh = ([i for i, x in enumerate(sig) if x > 20])\n",
        "st=(hh[0])\n",
        "ed=(hh[-1])\n",
        "jj = (ed-st)%fft_size\n",
        "jj = fft_size - jj\n",
        "ed = ed + jj\n",
        "#print(ed-st)\n",
        "frame = sig[st:ed].copy()\n",
        "time2 = np.arange(0, ed-st)\n",
        "#plt.plot(time2,frame)"
      ]
    },
    {
      "cell_type": "code",
      "execution_count": 8,
      "metadata": {
        "id": "a2CG5MFfeIZB"
      },
      "outputs": [
        {
          "ename": "NameError",
          "evalue": "name 'frame' is not defined",
          "output_type": "error",
          "traceback": [
            "\u001b[0;31m---------------------------------------------------------------------------\u001b[0m",
            "\u001b[0;31mNameError\u001b[0m                                 Traceback (most recent call last)",
            "\u001b[1;32m/Users/ishikawaritsuki/Desktop/IVRC/arduino/AudioAnalysis.ipynb セル 7\u001b[0m line \u001b[0;36m5\n\u001b[1;32m      <a href='vscode-notebook-cell:/Users/ishikawaritsuki/Desktop/IVRC/arduino/AudioAnalysis.ipynb#X34sZmlsZQ%3D%3D?line=2'>3</a>\u001b[0m time3 \u001b[39m=\u001b[39m np\u001b[39m.\u001b[39marange(\u001b[39m0\u001b[39m, fft_size)\n\u001b[1;32m      <a href='vscode-notebook-cell:/Users/ishikawaritsuki/Desktop/IVRC/arduino/AudioAnalysis.ipynb#X34sZmlsZQ%3D%3D?line=3'>4</a>\u001b[0m target_count \u001b[39m=\u001b[39m \u001b[39m0\u001b[39m\n\u001b[0;32m----> <a href='vscode-notebook-cell:/Users/ishikawaritsuki/Desktop/IVRC/arduino/AudioAnalysis.ipynb#X34sZmlsZQ%3D%3D?line=4'>5</a>\u001b[0m frame1 \u001b[39m=\u001b[39m frame[target_count\u001b[39m*\u001b[39mfft_size:(target_count\u001b[39m+\u001b[39m\u001b[39m1\u001b[39m)\u001b[39m*\u001b[39mfft_size]\u001b[39m.\u001b[39mcopy()\n\u001b[1;32m      <a href='vscode-notebook-cell:/Users/ishikawaritsuki/Desktop/IVRC/arduino/AudioAnalysis.ipynb#X34sZmlsZQ%3D%3D?line=5'>6</a>\u001b[0m frame1 \u001b[39m=\u001b[39m scipy\u001b[39m.\u001b[39msignal\u001b[39m.\u001b[39mlfilter([\u001b[39m1.0\u001b[39m, \u001b[39m-\u001b[39mp], \u001b[39m1\u001b[39m, frame1)\n\u001b[1;32m      <a href='vscode-notebook-cell:/Users/ishikawaritsuki/Desktop/IVRC/arduino/AudioAnalysis.ipynb#X34sZmlsZQ%3D%3D?line=6'>7</a>\u001b[0m frame1[\u001b[39m0\u001b[39m] \u001b[39m=\u001b[39m frame1[\u001b[39m1\u001b[39m]\n",
            "\u001b[0;31mNameError\u001b[0m: name 'frame' is not defined"
          ]
        }
      ],
      "source": [
        "# プリエンファシス（高周波強調）\n",
        "p = 0.97\n",
        "time3 = np.arange(0, fft_size)\n",
        "target_count = 0\n",
        "frame1 = frame[target_count*fft_size:(target_count+1)*fft_size].copy()\n",
        "frame1 = scipy.signal.lfilter([1.0, -p], 1, frame1)\n",
        "frame1[0] = frame1[1]\n",
        "#plt.plot(time3, frame1)"
      ]
    },
    {
      "cell_type": "code",
      "execution_count": 9,
      "metadata": {
        "id": "qzJ_TxrukiiG"
      },
      "outputs": [
        {
          "ename": "NameError",
          "evalue": "name 'frame1' is not defined",
          "output_type": "error",
          "traceback": [
            "\u001b[0;31m---------------------------------------------------------------------------\u001b[0m",
            "\u001b[0;31mNameError\u001b[0m                                 Traceback (most recent call last)",
            "\u001b[1;32m/Users/ishikawaritsuki/Desktop/IVRC/arduino/AudioAnalysis.ipynb セル 8\u001b[0m line \u001b[0;36m3\n\u001b[1;32m      <a href='vscode-notebook-cell:/Users/ishikawaritsuki/Desktop/IVRC/arduino/AudioAnalysis.ipynb#X35sZmlsZQ%3D%3D?line=0'>1</a>\u001b[0m \u001b[39m# ハミング窓を波形にかける\u001b[39;00m\n\u001b[1;32m      <a href='vscode-notebook-cell:/Users/ishikawaritsuki/Desktop/IVRC/arduino/AudioAnalysis.ipynb#X35sZmlsZQ%3D%3D?line=1'>2</a>\u001b[0m \u001b[39m# plt.figure()\u001b[39;00m\n\u001b[0;32m----> <a href='vscode-notebook-cell:/Users/ishikawaritsuki/Desktop/IVRC/arduino/AudioAnalysis.ipynb#X35sZmlsZQ%3D%3D?line=2'>3</a>\u001b[0m frame \u001b[39m=\u001b[39m frame1 \u001b[39m*\u001b[39m np\u001b[39m.\u001b[39mhamming(fft_size)\n\u001b[1;32m      <a href='vscode-notebook-cell:/Users/ishikawaritsuki/Desktop/IVRC/arduino/AudioAnalysis.ipynb#X35sZmlsZQ%3D%3D?line=3'>4</a>\u001b[0m \u001b[39m#plt.plot(time3, frame1)\u001b[39;00m\n\u001b[1;32m      <a href='vscode-notebook-cell:/Users/ishikawaritsuki/Desktop/IVRC/arduino/AudioAnalysis.ipynb#X35sZmlsZQ%3D%3D?line=4'>5</a>\u001b[0m \u001b[39m#plt.plot(time3, frame)\u001b[39;00m\n",
            "\u001b[0;31mNameError\u001b[0m: name 'frame1' is not defined"
          ]
        }
      ],
      "source": [
        "# ハミング窓を波形にかける\n",
        "# plt.figure()\n",
        "frame = frame1 * np.hamming(fft_size)\n",
        "#plt.plot(time3, frame1)\n",
        "#plt.plot(time3, frame)"
      ]
    },
    {
      "cell_type": "code",
      "execution_count": 10,
      "metadata": {
        "id": "_tt_W48qs4P7"
      },
      "outputs": [
        {
          "ename": "NameError",
          "evalue": "name 'frame1' is not defined",
          "output_type": "error",
          "traceback": [
            "\u001b[0;31m---------------------------------------------------------------------------\u001b[0m",
            "\u001b[0;31mNameError\u001b[0m                                 Traceback (most recent call last)",
            "\u001b[1;32m/Users/ishikawaritsuki/Desktop/IVRC/arduino/AudioAnalysis.ipynb セル 9\u001b[0m line \u001b[0;36m4\n\u001b[1;32m      <a href='vscode-notebook-cell:/Users/ishikawaritsuki/Desktop/IVRC/arduino/AudioAnalysis.ipynb#X36sZmlsZQ%3D%3D?line=0'>1</a>\u001b[0m \u001b[39m# フーリエ変換\u001b[39;00m\n\u001b[1;32m      <a href='vscode-notebook-cell:/Users/ishikawaritsuki/Desktop/IVRC/arduino/AudioAnalysis.ipynb#X36sZmlsZQ%3D%3D?line=1'>2</a>\u001b[0m \u001b[39m# plt.figure()\u001b[39;00m\n\u001b[1;32m      <a href='vscode-notebook-cell:/Users/ishikawaritsuki/Desktop/IVRC/arduino/AudioAnalysis.ipynb#X36sZmlsZQ%3D%3D?line=2'>3</a>\u001b[0m time4 \u001b[39m=\u001b[39m np\u001b[39m.\u001b[39marange(\u001b[39m0\u001b[39m, fft_size\u001b[39m/\u001b[39m\u001b[39m2\u001b[39m)\n\u001b[0;32m----> <a href='vscode-notebook-cell:/Users/ishikawaritsuki/Desktop/IVRC/arduino/AudioAnalysis.ipynb#X36sZmlsZQ%3D%3D?line=3'>4</a>\u001b[0m spectrum \u001b[39m=\u001b[39m np\u001b[39m.\u001b[39mfft\u001b[39m.\u001b[39mfft(frame1)\n\u001b[1;32m      <a href='vscode-notebook-cell:/Users/ishikawaritsuki/Desktop/IVRC/arduino/AudioAnalysis.ipynb#X36sZmlsZQ%3D%3D?line=4'>5</a>\u001b[0m spectrum \u001b[39m=\u001b[39m spectrum[: \u001b[39mint\u001b[39m(fft_size\u001b[39m/\u001b[39m\u001b[39m2\u001b[39m)]\n\u001b[1;32m      <a href='vscode-notebook-cell:/Users/ishikawaritsuki/Desktop/IVRC/arduino/AudioAnalysis.ipynb#X36sZmlsZQ%3D%3D?line=5'>6</a>\u001b[0m \u001b[39m#plt.plot(time4, spectrum)\u001b[39;00m\n",
            "\u001b[0;31mNameError\u001b[0m: name 'frame1' is not defined"
          ]
        }
      ],
      "source": [
        "# フーリエ変換\n",
        "# plt.figure()\n",
        "time4 = np.arange(0, fft_size/2)\n",
        "spectrum = np.fft.fft(frame1)\n",
        "spectrum = spectrum[: int(fft_size/2)]\n",
        "#plt.plot(time4, spectrum)"
      ]
    },
    {
      "cell_type": "code",
      "execution_count": 11,
      "metadata": {
        "id": "arh7ReiauSzg"
      },
      "outputs": [
        {
          "ename": "NameError",
          "evalue": "name 'spectrum' is not defined",
          "output_type": "error",
          "traceback": [
            "\u001b[0;31m---------------------------------------------------------------------------\u001b[0m",
            "\u001b[0;31mNameError\u001b[0m                                 Traceback (most recent call last)",
            "\u001b[1;32m/Users/ishikawaritsuki/Desktop/IVRC/arduino/AudioAnalysis.ipynb セル 10\u001b[0m line \u001b[0;36m3\n\u001b[1;32m      <a href='vscode-notebook-cell:/Users/ishikawaritsuki/Desktop/IVRC/arduino/AudioAnalysis.ipynb#X40sZmlsZQ%3D%3D?line=0'>1</a>\u001b[0m \u001b[39m# 絶対値とログをかける\u001b[39;00m\n\u001b[1;32m      <a href='vscode-notebook-cell:/Users/ishikawaritsuki/Desktop/IVRC/arduino/AudioAnalysis.ipynb#X40sZmlsZQ%3D%3D?line=1'>2</a>\u001b[0m \u001b[39m#plt.figure()\u001b[39;00m\n\u001b[0;32m----> <a href='vscode-notebook-cell:/Users/ishikawaritsuki/Desktop/IVRC/arduino/AudioAnalysis.ipynb#X40sZmlsZQ%3D%3D?line=2'>3</a>\u001b[0m rspectrum \u001b[39m=\u001b[39m np\u001b[39m.\u001b[39mfft\u001b[39m.\u001b[39mifft(spectrum)\n\u001b[1;32m      <a href='vscode-notebook-cell:/Users/ishikawaritsuki/Desktop/IVRC/arduino/AudioAnalysis.ipynb#X40sZmlsZQ%3D%3D?line=3'>4</a>\u001b[0m \u001b[39m#plt.plot(rspectrum)\u001b[39;00m\n\u001b[1;32m      <a href='vscode-notebook-cell:/Users/ishikawaritsuki/Desktop/IVRC/arduino/AudioAnalysis.ipynb#X40sZmlsZQ%3D%3D?line=4'>5</a>\u001b[0m \n\u001b[1;32m      <a href='vscode-notebook-cell:/Users/ishikawaritsuki/Desktop/IVRC/arduino/AudioAnalysis.ipynb#X40sZmlsZQ%3D%3D?line=5'>6</a>\u001b[0m \n\u001b[1;32m      <a href='vscode-notebook-cell:/Users/ishikawaritsuki/Desktop/IVRC/arduino/AudioAnalysis.ipynb#X40sZmlsZQ%3D%3D?line=6'>7</a>\u001b[0m \u001b[39m# fig = plt.figure()\u001b[39;00m\n\u001b[1;32m      <a href='vscode-notebook-cell:/Users/ishikawaritsuki/Desktop/IVRC/arduino/AudioAnalysis.ipynb#X40sZmlsZQ%3D%3D?line=7'>8</a>\u001b[0m \u001b[39m# ax = fig.add_subplot()\u001b[39;00m\n\u001b[1;32m      <a href='vscode-notebook-cell:/Users/ishikawaritsuki/Desktop/IVRC/arduino/AudioAnalysis.ipynb#X40sZmlsZQ%3D%3D?line=8'>9</a>\u001b[0m spectrum \u001b[39m=\u001b[39m (np\u001b[39m.\u001b[39mabs(spectrum))\n",
            "\u001b[0;31mNameError\u001b[0m: name 'spectrum' is not defined"
          ]
        }
      ],
      "source": [
        "# 絶対値とログをかける\n",
        "#plt.figure()\n",
        "rspectrum = np.fft.ifft(spectrum)\n",
        "#plt.plot(rspectrum)\n",
        "\n",
        "\n",
        "# fig = plt.figure()\n",
        "# ax = fig.add_subplot()\n",
        "spectrum = (np.abs(spectrum))\n",
        "spectrum = 10*np.log10(spectrum**2)\n",
        "#ax.plot(time4, spectrum)"
      ]
    },
    {
      "cell_type": "code",
      "execution_count": 12,
      "metadata": {
        "id": "ZaHWaY6U0hLz"
      },
      "outputs": [
        {
          "ename": "NameError",
          "evalue": "name 'spectrum' is not defined",
          "output_type": "error",
          "traceback": [
            "\u001b[0;31m---------------------------------------------------------------------------\u001b[0m",
            "\u001b[0;31mNameError\u001b[0m                                 Traceback (most recent call last)",
            "\u001b[1;32m/Users/ishikawaritsuki/Desktop/IVRC/arduino/AudioAnalysis.ipynb セル 11\u001b[0m line \u001b[0;36m1\n\u001b[1;32m      <a href='vscode-notebook-cell:/Users/ishikawaritsuki/Desktop/IVRC/arduino/AudioAnalysis.ipynb#X41sZmlsZQ%3D%3D?line=4'>5</a>\u001b[0m freqencies \u001b[39m=\u001b[39m librosa\u001b[39m.\u001b[39mfft_frequencies(sr\u001b[39m=\u001b[39m\u001b[39m44100\u001b[39m, n_fft\u001b[39m=\u001b[39m\u001b[39m1024\u001b[39m\u001b[39m-\u001b[39m\u001b[39m1\u001b[39m)\n\u001b[1;32m      <a href='vscode-notebook-cell:/Users/ishikawaritsuki/Desktop/IVRC/arduino/AudioAnalysis.ipynb#X41sZmlsZQ%3D%3D?line=5'>6</a>\u001b[0m \u001b[39m# for i in range(20):\u001b[39;00m\n\u001b[1;32m      <a href='vscode-notebook-cell:/Users/ishikawaritsuki/Desktop/IVRC/arduino/AudioAnalysis.ipynb#X41sZmlsZQ%3D%3D?line=6'>7</a>\u001b[0m   \u001b[39m#plt.plot(freqencies, mel_basis[i])\u001b[39;00m\n\u001b[1;32m      <a href='vscode-notebook-cell:/Users/ishikawaritsuki/Desktop/IVRC/arduino/AudioAnalysis.ipynb#X41sZmlsZQ%3D%3D?line=7'>8</a>\u001b[0m \n\u001b[1;32m      <a href='vscode-notebook-cell:/Users/ishikawaritsuki/Desktop/IVRC/arduino/AudioAnalysis.ipynb#X41sZmlsZQ%3D%3D?line=8'>9</a>\u001b[0m \u001b[39m#plt.figure()\u001b[39;00m\n\u001b[0;32m---> <a href='vscode-notebook-cell:/Users/ishikawaritsuki/Desktop/IVRC/arduino/AudioAnalysis.ipynb#X41sZmlsZQ%3D%3D?line=9'>10</a>\u001b[0m mel_amplitude_spectrum \u001b[39m=\u001b[39m np\u001b[39m.\u001b[39mdot(mel_basis, spectrum)\n\u001b[1;32m     <a href='vscode-notebook-cell:/Users/ishikawaritsuki/Desktop/IVRC/arduino/AudioAnalysis.ipynb#X41sZmlsZQ%3D%3D?line=10'>11</a>\u001b[0m change \u001b[39m=\u001b[39m mel_amplitude_spectrum\n\u001b[1;32m     <a href='vscode-notebook-cell:/Users/ishikawaritsuki/Desktop/IVRC/arduino/AudioAnalysis.ipynb#X41sZmlsZQ%3D%3D?line=11'>12</a>\u001b[0m mel_amplitude_spectrum \u001b[39m=\u001b[39m np\u001b[39m.\u001b[39mlog(change)\n",
            "\u001b[0;31mNameError\u001b[0m: name 'spectrum' is not defined"
          ]
        }
      ],
      "source": [
        "# メルフィルタをかける\n",
        "from librosa.core.convert import mel_frequencies\n",
        "#plt.figure()\n",
        "mel_basis = librosa.filters.mel(sr=44100, n_fft=1024-1, n_mels=20, fmax=44100//2)\n",
        "freqencies = librosa.fft_frequencies(sr=44100, n_fft=1024-1)\n",
        "# for i in range(20):\n",
        "  #plt.plot(freqencies, mel_basis[i])\n",
        "\n",
        "#plt.figure()\n",
        "mel_amplitude_spectrum = np.dot(mel_basis, spectrum)\n",
        "change = mel_amplitude_spectrum\n",
        "mel_amplitude_spectrum = np.log(change)\n",
        "mel_frequencies = librosa.mel_frequencies(n_mels=20+2, fmin=0.0, fmax=44100/2, htk=True)\n",
        "mel_frequencies = mel_frequencies[1:-1]\n",
        "#plt.plot(mel_frequencies, mel_amplitude_spectrum)\n"
      ]
    },
    {
      "cell_type": "code",
      "execution_count": null,
      "metadata": {
        "colab": {
          "base_uri": "https://localhost:8080/"
        },
        "id": "9Dfb2ZBiZSqu",
        "outputId": "17cb526f-ef4f-4f08-d357-1a06e9eabbcf"
      },
      "outputs": [
        {
          "name": "stderr",
          "output_type": "stream",
          "text": [
            "<ipython-input-13-4b652553d1bf>:6: DeprecationWarning: Please use `dct` from the `scipy.fftpack` namespace, the `scipy.fftpack.realtransforms` namespace is deprecated.\n",
            "  spec = scipy.fftpack.realtransforms.dct(mel_amplitude_spectrum, type=2, norm=\"ortho\", axis=-1)\n"
          ]
        }
      ],
      "source": [
        "# 離散コサイン変換\n",
        "from matplotlib.figure import NonGuiException\n",
        "# plt.figure()\n",
        "time4 = np.arange(0, 20)\n",
        "nceps=12\n",
        "spec = scipy.fftpack.realtransforms.dct(mel_amplitude_spectrum, type=2, norm=\"ortho\", axis=-1)\n",
        "speck=spec[:nceps]\n",
        "#plt.xlim([0, 20])\n",
        "#plt.plot(time4, spec)\n",
        "#plt.plot(speck)"
      ]
    },
    {
      "cell_type": "code",
      "execution_count": null,
      "metadata": {
        "id": "FT6KTogwZa78"
      },
      "outputs": [],
      "source": [
        "# 逆フーリエ変換\n",
        "# plt.figure()\n",
        "qefr_axis = np.arange(0, fft_size/2)\n",
        "cepstrum = np.fft.ifft(spectrum)\n",
        "#plt.plot(qefr_axis, np.real(cepstrum))"
      ]
    },
    {
      "cell_type": "code",
      "execution_count": null,
      "metadata": {
        "id": "p2ieUdfJb6Ln"
      },
      "outputs": [],
      "source": [
        "# 高域部分カットして再フーリエ変換\n",
        "# plt.figure()\n",
        "cepstrum_low = cepstrum.copy()\n",
        "cep_threshold = 33\n",
        "cepstrum_low[(cep_threshold+1):-(cep_threshold)] = 0.0\n",
        "#plt.plot(qefr_axis, np.real(cepstrum_low))\n",
        "log_power_ceplo = np.abs(np.fft.fft(cepstrum_low))"
      ]
    },
    {
      "cell_type": "code",
      "execution_count": null,
      "metadata": {
        "colab": {
          "base_uri": "https://localhost:8080/"
        },
        "id": "lbaBLMRMdbhz",
        "outputId": "4f752eca-f52a-4ecf-a8ee-9644b9b077ca"
      },
      "outputs": [
        {
          "name": "stdout",
          "output_type": "stream",
          "text": [
            "[0.0, 1.0, 2.0, 3.0, 4.0, 5.0, 6.0, 7.0, 8.0, 9.0, 10.0, 11.0, 12.0, 13.0, 14.0, 15.0, 16.0, 17.0, 18.0, 19.0, 20.0, 21.0, 22.0, 23.0, 24.0, 25.0, 26.0, 27.0, 28.0, 29.0, 30.0, 31.0, 32.0, 33.0, 34.0, 35.0, 36.0, 37.0, 38.0, 39.0, 40.0, 41.0, 42.0, 43.0, 44.0, 45.0, 46.0, 47.0, 48.0, 49.0, 50.0, 51.0, 52.0, 53.0, 54.0, 55.0, 56.0, 57.0, 58.0, 59.0, 60.0, 61.0, 62.0, 63.0, 64.0, 65.0, 66.0, 67.0, 68.0, 69.0, 70.0, 71.0, 72.0, 73.0, 74.0, 75.0, 76.0, 77.0, 78.0, 79.0, 80.0, 81.0, 82.0, 83.0, 84.0, 85.0, 86.0, 87.0, 88.0, 89.0, 90.0, 91.0, 92.0, 93.0, 94.0, 95.0, 96.0, 97.0, 98.0, 99.0, 100.0, 101.0, 102.0, 103.0, 104.0, 105.0, 106.0, 107.0, 108.0, 109.0, 110.0, 111.0, 112.0, 113.0, 114.0, 115.0, 116.0, 117.0, 118.0, 119.0, 120.0, 121.0, 122.0, 123.0, 124.0, 125.0, 126.0, 127.0, 128.0, 129.0, 130.0, 131.0, 132.0, 133.0, 134.0, 135.0, 136.0, 137.0, 138.0, 139.0, 140.0, 141.0, 142.0, 143.0, 144.0, 145.0, 146.0, 147.0, 148.0, 149.0, 150.0, 151.0, 152.0, 153.0, 154.0, 155.0, 156.0, 157.0, 158.0, 159.0, 160.0, 161.0, 162.0, 163.0, 164.0, 165.0, 166.0, 167.0, 168.0, 169.0, 170.0, 171.0, 172.0, 173.0, 174.0, 175.0, 176.0, 177.0, 178.0, 179.0, 180.0, 181.0, 182.0, 183.0, 184.0, 185.0, 186.0, 187.0, 188.0, 189.0, 190.0, 191.0, 192.0, 193.0, 194.0, 195.0, 196.0, 197.0, 198.0, 199.0, 200.0, 201.0, 202.0, 203.0, 204.0, 205.0, 206.0, 207.0, 208.0, 209.0, 210.0, 211.0, 212.0, 213.0, 214.0, 215.0, 216.0, 217.0, 218.0, 219.0, 220.0, 221.0, 222.0, 223.0, 224.0, 225.0, 226.0, 227.0, 228.0, 229.0, 230.0, 231.0, 232.0, 233.0, 234.0, 235.0, 236.0, 237.0, 238.0, 239.0, 240.0, 241.0, 242.0, 243.0, 244.0, 245.0, 246.0, 247.0, 248.0, 249.0, 250.0, 251.0, 252.0, 253.0, 254.0, 255.0, 256.0, 257.0, 258.0, 259.0, 260.0, 261.0, 262.0, 263.0, 264.0, 265.0, 266.0, 267.0, 268.0, 269.0, 270.0, 271.0, 272.0, 273.0, 274.0, 275.0, 276.0, 277.0, 278.0, 279.0, 280.0, 281.0, 282.0, 283.0, 284.0, 285.0, 286.0, 287.0, 288.0, 289.0, 290.0, 291.0, 292.0, 293.0, 294.0, 295.0, 296.0, 297.0, 298.0, 299.0, 300.0, 301.0, 302.0, 303.0, 304.0, 305.0, 306.0, 307.0, 308.0, 309.0, 310.0, 311.0, 312.0, 313.0, 314.0, 315.0, 316.0, 317.0, 318.0, 319.0, 320.0, 321.0, 322.0, 323.0, 324.0, 325.0, 326.0, 327.0, 328.0, 329.0, 330.0, 331.0, 332.0, 333.0, 334.0, 335.0, 336.0, 337.0, 338.0, 339.0, 340.0, 341.0, 342.0, 343.0, 344.0, 345.0, 346.0, 347.0, 348.0, 349.0, 350.0, 351.0, 352.0, 353.0, 354.0, 355.0, 356.0, 357.0, 358.0, 359.0, 360.0, 361.0, 362.0, 363.0, 364.0, 365.0, 366.0, 367.0, 368.0, 369.0, 370.0, 371.0, 372.0, 373.0, 374.0, 375.0, 376.0, 377.0, 378.0, 379.0, 380.0, 381.0, 382.0, 383.0, 384.0, 385.0, 386.0, 387.0, 388.0, 389.0, 390.0, 391.0, 392.0, 393.0, 394.0, 395.0, 396.0, 397.0, 398.0, 399.0, 400.0, 401.0, 402.0, 403.0, 404.0, 405.0, 406.0, 407.0, 408.0, 409.0, 410.0, 411.0, 412.0, 413.0, 414.0, 415.0, 416.0, 417.0, 418.0, 419.0, 420.0, 421.0, 422.0, 423.0, 424.0, 425.0, 426.0, 427.0, 428.0, 429.0, 430.0, 431.0, 432.0, 433.0, 434.0, 435.0, 436.0, 437.0, 438.0, 439.0, 440.0, 441.0, 442.0, 443.0, 444.0, 445.0, 446.0, 447.0, 448.0, 449.0, 450.0, 451.0, 452.0, 453.0, 454.0, 455.0, 456.0, 457.0, 458.0, 459.0, 460.0, 461.0, 462.0, 463.0, 464.0, 465.0, 466.0, 467.0, 468.0, 469.0, 470.0, 471.0, 472.0, 473.0, 474.0, 475.0, 476.0, 477.0, 478.0, 479.0, 480.0, 481.0, 482.0, 483.0, 484.0, 485.0, 486.0, 487.0, 488.0, 489.0, 490.0, 491.0, 492.0, 493.0, 494.0, 495.0, 496.0, 497.0, 498.0, 499.0, 500.0, 501.0, 502.0, 503.0, 504.0, 505.0, 506.0, 507.0, 508.0, 509.0, 510.0, 511.0]\n",
            "[26.554264970765026, 26.871496915590367, 27.222120185541424, 27.56452633159872, 27.873883721157217, 28.14546635243641, 28.394606508908815, 28.65333805815487, 28.964302473273264, 29.372903116261604, 29.91895273453861, 30.62912603805971, 31.51139478637746, 32.552308998005394, 33.717544019203906, 34.955628238781884, 36.204278169277806, 37.39837133481056, 38.47834323451736, 39.397739101812796, 40.12879144397046, 40.665207332265595, 41.02178548021267, 41.23097393778973, 41.33694836238336, 41.388165790691616, 41.429572218982024, 41.4956806204248, 41.60558479701131, 41.76065870211594, 41.94526103600378, 42.13028888510968, 42.27897654824244, 42.35398611997297, 42.32463874829765, 42.17311952524068, 41.898655903022146, 41.51899198473381, 41.0689075582916, 40.595993997554764, 40.15432659554558, 39.796998142470834, 39.568651748422084, 39.49914635679011, 39.59930842656569, 39.859397606530635, 40.25049509972742, 40.72857712638951, 41.24063227635614, 41.73188295417654, 42.153022694970176, 42.46640384178152, 42.65029768733191, 42.70066952088973, 42.63031134985571, 42.46559067769246, 42.241438346145706, 41.99545482954418, 41.762123293475106, 41.56806413235718, 41.429060841909866, 41.34926651407669, 41.322617891273254, 41.33610327025007, 41.374214349852984, 41.423712252800684, 41.477787100968094, 41.538796949416714, 41.619018148010234, 41.739185005523844, 41.92498533135705, 42.20204613739333, 42.5902296367322, 43.098215620842694, 43.71934481738531, 44.429536425595266, 45.187794709545166, 45.939429298350156, 46.621691668215576, 47.171141746341334, 47.531764630230406, 47.6627048624463, 47.544499907170284, 47.182875424982534, 46.60948723717628, 45.87941164961143, 45.0656359507253, 44.25121838046568, 43.52011077027133, 42.94782071918383, 42.593108062904385, 42.491761666165814, 42.653210832211094, 43.06033499721564, 43.67240352307041, 44.43066664401285, 45.26578657196312, 46.10608888801368, 46.88555375058498, 47.55055678062084, 48.064591323224846, 48.41051938038653, 48.59025815048484, 48.62215908049984, 48.536627150276054, 48.37072174147364, 48.16255547741932, 47.946261371157206, 47.7481472232357, 47.584429904575664, 47.46068045419806, 47.37285566905821, 47.30958055500878, 47.25520618522121, 47.193113142605156, 47.108761028403805, 46.99208531617071, 46.83899000784157, 46.65184897618975, 46.439081815857534, 46.21398806822047, 45.99309239688141, 45.79426895124328, 45.634882413166615, 45.530120816068425, 45.491620308662384, 45.52641384715427, 45.63618956287214, 45.816828381232554, 46.05820388075547, 46.34426168747019, 46.653436171305295, 46.95949158715138, 47.232877434634354, 47.44265359011176, 47.55896803450824, 47.555966798743896, 47.41489905811672, 47.127073358428795, 46.69624900129188, 46.140031911074, 45.48990123512169, 44.78962420939243, 44.09201159674368, 43.45420031930859, 42.93188965083435, 42.57316330723081, 42.412664092781476, 42.466920588146195, 42.73154077587364, 43.180787393117505, 43.76975508595602, 44.43901806050206, 45.12125890205427, 45.74907934347909, 46.262982967602895, 46.61844678079243, 46.791082665223406, 46.77912674523782, 46.602856335141055, 46.300971033346315, 45.92442311821364, 45.52857424605048, 45.16482784256598, 44.872992704293395, 44.675550361447414, 44.57473248398322, 44.5528997090616, 44.576208993255165, 44.60103844380506, 44.582187044195926, 44.481554771064495, 44.275890097147155, 43.96229222775819, 43.5604667061003, 43.111214030951885, 42.67121244202468, 42.304750683004585, 42.07358186962513, 42.026422216260265, 42.189747358428335, 42.56141600368138, 43.108285351525204, 43.76842259541867, 44.45784089847953, 45.08099592922348, 45.543675448934216, 45.766494375003, 45.697040937514814, 45.318839309802776, 44.655691275197206, 43.77058278585359, 42.75910396945541, 41.73812344078719, 40.831162853445235, 40.15242911381001, 39.7916998902058, 39.80218246775701, 40.193082047304465, 40.92797456827879, 41.929271244123605, 43.088203361728894, 44.27897153760615, 45.37510888246463, 46.265790728838624, 46.86983260384213, 47.14545295101269, 47.09448947018775, 46.76055832683901, 46.2215162873821, 45.577398901781166, 44.93564361650331, 44.39577213229177, 44.035748906015186, 43.90194830785972, 44.00409641651044, 44.315791710383735, 44.780367819354765, 45.32106814144068, 45.8538755801009, 46.30097392335648, 46.60276335493583, 46.72661615115695, 46.67109614249529, 46.46509175507485, 46.16211379460126, 45.830761227851546, 45.54294511145217, 45.36179282873115, 45.33118223130524, 45.46857597012175, 45.762285749589594, 46.17358042466774, 46.6432737661484, 47.10170971193814, 47.48051771373757, 47.724223919944436, 47.79982050112977, 47.702713088204845, 47.458035673784266, 47.11705468288153, 46.749164939181966, 46.43068781049582, 46.2322049300885, 46.20641695729985, 46.37846447690621, 46.74029363544747, 47.25004553297846, 47.83668741794529, 48.40930159143853, 48.86972749597084, 49.12672439915026, 49.10956782826723, 48.7790522243523, 48.134237177010014, 47.213890622349865, 46.092357009730925, 44.870395258892216, 43.66226782995025, 42.58090844789955, 41.72327116219453, 41.15792793158954, 40.91664321752507, 40.99106503503853, 41.33492251228533, 41.871323313833464, 42.504019101478804, 43.13096005335959, 43.65816858874202, 44.01196638170874, 44.147881052732025, 44.055089886785936, 43.75594283090383, 43.300839681326806, 42.75940569205448, 42.20941689484312, 41.72519933788335, 41.367230852088, 41.17441743729057, 41.16004638308925, 41.31181386523229, 41.595683655528646, 41.96275637625093, 42.35790321018744, 42.72870564332765, 43.03326982225163, 43.24573796701818, 43.358751752819146, 43.382658169319114, 43.341797024000485, 43.26868111422669, 43.1971999671197, 43.15609729699048, 43.16387626280619, 43.22599627889899, 43.334793337507485, 43.472057972620995, 43.61372651847022, 43.735763374187144, 43.82009821080161, 43.85946816197839, 43.86020308581081, 43.84235017540827, 43.837002213461446, 43.881192754285976, 44.011167076736115, 44.255153834570606, 44.626893780402135, 45.12110364721185, 45.711774472483384, 46.35376665606032, 46.98763761313711, 47.54710629022633, 47.96810834627234, 48.198100882504896, 48.204186711183056, 47.9787635119092, 47.541745596977165, 46.9389051041683, 46.23645958780916, 45.51260487574506, 44.8471667029651, 44.31084731353885, 43.955625318842515, 43.807713829425815, 43.864114783828036, 44.09328116770919, 44.4397929227488, 44.8323588071756, 45.19396565187181, 45.45268310320758, 45.5515436400344, 45.45606748652471, 45.158366619055606, 44.67728515748499, 44.05463470007702, 43.34817057567475, 42.62243901029559, 41.93893255193702, 41.347075928644394, 40.87741536205934, 40.538025719506294, 40.3146382782916, 40.174406975618304, 40.07266329898955, 39.961546742506094, 39.79910976733178, 39.5574268962537, 39.228396562324086, 38.826286154150814, 38.38657892296269, 37.96125747329179, 37.61121390730635, 37.396926403315526, 37.368817698701655, 37.55877108357379, 37.97411553724213, 38.59502902958087, 39.37580314185168, 40.24983969295681, 41.13769715709416, 41.95705392916661, 42.63317357018947, 43.10838486781802, 43.34923604541765, 43.35032425769557, 43.13428638774891, 42.74799229710047, 42.25552481135105, 41.72898249402543, 41.23843694937267, 40.84247525569562, 40.580648996014, 40.468853731909945, 40.49822337238901, 40.637609207496126, 40.8391994688462, 41.04639641110731, 41.202765710308626, 41.26074773969189, 41.18888563262963, 40.97656665537959, 40.6356518998954, 40.19882666854286, 39.71497253593189, 39.24227480040598, 38.84007892609903, 38.56065773697282, 38.442031696797635, 38.50280619178583, 38.73968320281294, 39.12791794490968, 39.624581194930414, 40.17411316698214, 40.7153654664969, 41.1891600456408, 41.545365591469, 41.748599495237045, 41.781885746415725, 41.64789931923658, 41.36776068343554, 40.977662919756824, 40.52387635536197, 40.05684990919905, 39.62519689991436, 39.270314021663296, 39.022248429410844, 38.89722418237935, 38.89699799950011, 39.0099701841713, 39.2137619607746, 39.478810900006835, 39.77244757107753, 40.062904169834376, 40.32276427531126, 40.531478028070495, 40.676718936114696, 40.75452459729881, 40.768321885291954, 40.72706893690427, 40.642838248815366, 40.52821024635981, 40.393844006998584, 40.24654608801806, 40.08807848717251, 39.914844134640525, 39.718475507763735, 39.487241220517575, 39.20808770502761, 38.869057332634675, 38.461777120464774, 37.9836976005042, 37.43978093138129, 36.84338966587009, 36.21620878079004, 35.58713694840689, 34.99019934427007, 34.46165217209951, 34.036555789333356, 33.745175842085885, 33.60961839038292, 33.64110671234543, 33.838259868006425, 34.18663745529084, 34.65967896017659, 35.221003544357366, 35.82786593145139, 36.43540812713805, 37.00122709014258, 37.48971419831125, 37.87562635889017, 38.14642522000971, 38.30306443350053, 38.35909950343536, 38.338216075057495, 38.27049062617612, 38.18788095190714, 38.11956423395129, 38.08777712300611, 38.10475566244857, 38.17122697787795, 38.2766870077721, 38.401438447641006, 38.520097726051546, 38.60604905973664, 38.636163925398066, 38.59504296824687, 38.478087947735446, 38.29287071676954, 38.05851445353255, 37.8031048232826, 37.55946093582566, 37.35986991801008, 37.23058050322378, 37.186926960646154, 37.22989813500151, 37.34478032205759, 37.50221030596168, 37.66161668381877, 37.77665600178612, 37.801921854224176, 37.69997223855608, 37.44762283215379, 37.04051203020943, 36.4951551013147, 35.84804374887762, 35.15176744100995, 34.46857384644066, 33.86218208968422, 33.388953351138596, 33.08966155416749, 32.983066943058674, 33.062277661174974, 33.29451599529166, 33.624437003070625, 33.9806442802948, 34.28458378719523, 34.46064088196714, 34.446072330561044, 34.19940536081771, 33.70613295028936, 32.980902540970156, 32.06588266700845, 31.025528666767027, 29.938476742639047, 28.88770062064078, 27.95030708894742, 27.188389640657036, 26.642196523105454, 26.326524462341443, 26.230773103805895, 26.322558350787062]\n"
          ]
        }
      ],
      "source": [
        "print(qefr_axis.tolist())\n",
        "print(log_power_ceplo.tolist())"
      ]
    },
    {
      "cell_type": "code",
      "execution_count": 13,
      "metadata": {
        "colab": {
          "base_uri": "https://localhost:8080/",
          "height": 553
        },
        "id": "pqAhkLycd6RF",
        "outputId": "cb9dfb77-1118-4b8c-efa0-745055063a82"
      },
      "outputs": [
        {
          "ename": "NameError",
          "evalue": "name 'log_power_ceplo' is not defined",
          "output_type": "error",
          "traceback": [
            "\u001b[0;31m---------------------------------------------------------------------------\u001b[0m",
            "\u001b[0;31mNameError\u001b[0m                                 Traceback (most recent call last)",
            "\u001b[1;32m/Users/ishikawaritsuki/Desktop/IVRC/arduino/AudioAnalysis.ipynb セル 16\u001b[0m line \u001b[0;36m4\n\u001b[1;32m     <a href='vscode-notebook-cell:/Users/ishikawaritsuki/Desktop/IVRC/arduino/AudioAnalysis.ipynb#X46sZmlsZQ%3D%3D?line=38'>39</a>\u001b[0m df \u001b[39m=\u001b[39m pd\u001b[39m.\u001b[39mDataFrame({})\n\u001b[1;32m     <a href='vscode-notebook-cell:/Users/ishikawaritsuki/Desktop/IVRC/arduino/AudioAnalysis.ipynb#X46sZmlsZQ%3D%3D?line=40'>41</a>\u001b[0m \u001b[39m# 電流値の列データを取り出し\u001b[39;00m\n\u001b[0;32m---> <a href='vscode-notebook-cell:/Users/ishikawaritsuki/Desktop/IVRC/arduino/AudioAnalysis.ipynb#X46sZmlsZQ%3D%3D?line=41'>42</a>\u001b[0m Its \u001b[39m=\u001b[39m log_power_ceplo\n\u001b[1;32m     <a href='vscode-notebook-cell:/Users/ishikawaritsuki/Desktop/IVRC/arduino/AudioAnalysis.ipynb#X46sZmlsZQ%3D%3D?line=44'>45</a>\u001b[0m \u001b[39m# 経過時間の列データを取り出し\u001b[39;00m\n\u001b[1;32m     <a href='vscode-notebook-cell:/Users/ishikawaritsuki/Desktop/IVRC/arduino/AudioAnalysis.ipynb#X46sZmlsZQ%3D%3D?line=45'>46</a>\u001b[0m times \u001b[39m=\u001b[39m qefr_axis\n",
            "\u001b[0;31mNameError\u001b[0m: name 'log_power_ceplo' is not defined"
          ]
        }
      ],
      "source": [
        "# -*- coding: utf-8 -*-\n",
        "# 波形を近似\n",
        "import os\n",
        "import pandas as pd\n",
        "import matplotlib\n",
        "import matplotlib.pyplot as plt\n",
        "import numpy as np\n",
        "from scipy.optimize import curve_fit\n",
        "import ntpath\n",
        "from sklearn import linear_model\n",
        "import joblib\n",
        "from scipy import optimize\n",
        "\n",
        "# 近似関数\n",
        "def approx_func(param, x, y):\n",
        "    y = param[0] * x ** 5 + param[1] * x ** 4 + param[2] * x ** 3 + param[3] * x ** 2 + param[4] * x + param[5]\n",
        "    return y\n",
        "\n",
        "def residual_func(param, x, y):\n",
        "    residual = y - approx_func(param, x, y)\n",
        "    return residual\n",
        "\n",
        "# 決定係数R^2の計算\n",
        "def calc_r2(x_data, y_data, y_predict):\n",
        "    residuals = y_data - y_predict\n",
        "    rss = np.sum(residuals**2)  # residual sum of squares = rss\n",
        "    tss = np.sum((y_data - np.mean(y_data)) ** 2)  # total sum of squares = tss\n",
        "    r2 = 1 - (rss / tss)\n",
        "    return r2\n",
        "\n",
        "# 開始時間～終了時間\n",
        "(time_start, time_end) = (0, 580)\n",
        "\n",
        "# パラメータの初期値\n",
        "param1 = [0, 0, 0, 0, 0, 0]\n",
        "\n",
        "\n",
        "# 空のデータフレームを作成\n",
        "df = pd.DataFrame({})\n",
        "\n",
        "# 電流値の列データを取り出し\n",
        "Its = log_power_ceplo\n",
        "\n",
        "\n",
        "# 経過時間の列データを取り出し\n",
        "times = qefr_axis\n",
        "\n",
        "Its = Its[(times > time_start) & (times < time_end)]\n",
        "times = times[(times > time_start) & (times < time_end)]\n",
        "\n",
        "# 近似直線のパラメータを計算\n",
        "lq = optimize.leastsq(residual_func, param1, args=(times, Its))  # 係数\n",
        "(a1, a2, a3, a4, a5, b) = (lq[0][0], lq[0][1], lq[0][2], lq[0][3], lq[0][4], lq[0][5])\n",
        "\n",
        "# 近似直線\n",
        "y_predict = approx_func(lq[0], times, Its)\n",
        "\n",
        "# 決定係数\n",
        "r2 = calc_r2(times, Its, y_predict)\n",
        "\n",
        "# パラメータの表示\n",
        "print(\"回帰係数a1:\", a1)\n",
        "print(\"回帰係数a2:\", a2)\n",
        "print(\"回帰係数a3:\", a3)\n",
        "print(\"回帰係数a4:\", a4)\n",
        "print(\"切片:\", b)\n",
        "print(\"決定係数:\", r2)\n",
        "\n",
        "# 電流値をプロット\n",
        "plt.rcParams[\"font.family\"] = \"DejaVu Serif\"\n",
        "plt.plot(times, Its, lw=1, c=\"r\", alpha=0.7, ms=2)\n",
        "\n",
        "# 電流値をプロット\n",
        "plt.plot(times, y_predict, lw=1, c=\"b\", alpha=0.7, ms=2)\n",
        "\n"
      ]
    },
    {
      "cell_type": "code",
      "execution_count": null,
      "metadata": {
        "colab": {
          "base_uri": "https://localhost:8080/"
        },
        "id": "Z7DM5iiL3F3G",
        "outputId": "66b35326-4469-40c7-b49d-231fea56d464"
      },
      "outputs": [
        {
          "name": "stdout",
          "output_type": "stream",
          "text": [
            "[1.0, 2.0, 3.0, 4.0, 5.0, 6.0, 7.0, 8.0, 9.0, 10.0, 11.0, 12.0, 13.0, 14.0, 15.0, 16.0, 17.0, 18.0, 19.0, 20.0, 21.0, 22.0, 23.0, 24.0, 25.0, 26.0, 27.0, 28.0, 29.0, 30.0, 31.0, 32.0, 33.0, 34.0, 35.0, 36.0, 37.0, 38.0, 39.0, 40.0, 41.0, 42.0, 43.0, 44.0, 45.0, 46.0, 47.0, 48.0, 49.0, 50.0, 51.0, 52.0, 53.0, 54.0, 55.0, 56.0, 57.0, 58.0, 59.0, 60.0, 61.0, 62.0, 63.0, 64.0, 65.0, 66.0, 67.0, 68.0, 69.0, 70.0, 71.0, 72.0, 73.0, 74.0, 75.0, 76.0, 77.0, 78.0, 79.0, 80.0, 81.0, 82.0, 83.0, 84.0, 85.0, 86.0, 87.0, 88.0, 89.0, 90.0, 91.0, 92.0, 93.0, 94.0, 95.0, 96.0, 97.0, 98.0, 99.0, 100.0, 101.0, 102.0, 103.0, 104.0, 105.0, 106.0, 107.0, 108.0, 109.0, 110.0, 111.0, 112.0, 113.0, 114.0, 115.0, 116.0, 117.0, 118.0, 119.0, 120.0, 121.0, 122.0, 123.0, 124.0, 125.0, 126.0, 127.0, 128.0, 129.0, 130.0, 131.0, 132.0, 133.0, 134.0, 135.0, 136.0, 137.0, 138.0, 139.0, 140.0, 141.0, 142.0, 143.0, 144.0, 145.0, 146.0, 147.0, 148.0, 149.0, 150.0, 151.0, 152.0, 153.0, 154.0, 155.0, 156.0, 157.0, 158.0, 159.0, 160.0, 161.0, 162.0, 163.0, 164.0, 165.0, 166.0, 167.0, 168.0, 169.0, 170.0, 171.0, 172.0, 173.0, 174.0, 175.0, 176.0, 177.0, 178.0, 179.0, 180.0, 181.0, 182.0, 183.0, 184.0, 185.0, 186.0, 187.0, 188.0, 189.0, 190.0, 191.0, 192.0, 193.0, 194.0, 195.0, 196.0, 197.0, 198.0, 199.0, 200.0, 201.0, 202.0, 203.0, 204.0, 205.0, 206.0, 207.0, 208.0, 209.0, 210.0, 211.0, 212.0, 213.0, 214.0, 215.0, 216.0, 217.0, 218.0, 219.0, 220.0, 221.0, 222.0, 223.0, 224.0, 225.0, 226.0, 227.0, 228.0, 229.0, 230.0, 231.0, 232.0, 233.0, 234.0, 235.0, 236.0, 237.0, 238.0, 239.0, 240.0, 241.0, 242.0, 243.0, 244.0, 245.0, 246.0, 247.0, 248.0, 249.0, 250.0, 251.0, 252.0, 253.0, 254.0, 255.0, 256.0, 257.0, 258.0, 259.0, 260.0, 261.0, 262.0, 263.0, 264.0, 265.0, 266.0, 267.0, 268.0, 269.0, 270.0, 271.0, 272.0, 273.0, 274.0, 275.0, 276.0, 277.0, 278.0, 279.0, 280.0, 281.0, 282.0, 283.0, 284.0, 285.0, 286.0, 287.0, 288.0, 289.0, 290.0, 291.0, 292.0, 293.0, 294.0, 295.0, 296.0, 297.0, 298.0, 299.0, 300.0, 301.0, 302.0, 303.0, 304.0, 305.0, 306.0, 307.0, 308.0, 309.0, 310.0, 311.0, 312.0, 313.0, 314.0, 315.0, 316.0, 317.0, 318.0, 319.0, 320.0, 321.0, 322.0, 323.0, 324.0, 325.0, 326.0, 327.0, 328.0, 329.0, 330.0, 331.0, 332.0, 333.0, 334.0, 335.0, 336.0, 337.0, 338.0, 339.0, 340.0, 341.0, 342.0, 343.0, 344.0, 345.0, 346.0, 347.0, 348.0, 349.0, 350.0, 351.0, 352.0, 353.0, 354.0, 355.0, 356.0, 357.0, 358.0, 359.0, 360.0, 361.0, 362.0, 363.0, 364.0, 365.0, 366.0, 367.0, 368.0, 369.0, 370.0, 371.0, 372.0, 373.0, 374.0, 375.0, 376.0, 377.0, 378.0, 379.0, 380.0, 381.0, 382.0, 383.0, 384.0, 385.0, 386.0, 387.0, 388.0, 389.0, 390.0, 391.0, 392.0, 393.0, 394.0, 395.0, 396.0, 397.0, 398.0, 399.0, 400.0, 401.0, 402.0, 403.0, 404.0, 405.0, 406.0, 407.0, 408.0, 409.0, 410.0, 411.0, 412.0, 413.0, 414.0, 415.0, 416.0, 417.0, 418.0, 419.0, 420.0, 421.0, 422.0, 423.0, 424.0, 425.0, 426.0, 427.0, 428.0, 429.0, 430.0, 431.0, 432.0, 433.0, 434.0, 435.0, 436.0, 437.0, 438.0, 439.0, 440.0, 441.0, 442.0, 443.0, 444.0, 445.0, 446.0, 447.0, 448.0, 449.0, 450.0, 451.0, 452.0, 453.0, 454.0, 455.0, 456.0, 457.0, 458.0, 459.0, 460.0, 461.0, 462.0, 463.0, 464.0, 465.0, 466.0, 467.0, 468.0, 469.0, 470.0, 471.0, 472.0, 473.0, 474.0, 475.0, 476.0, 477.0, 478.0, 479.0, 480.0, 481.0, 482.0, 483.0, 484.0, 485.0, 486.0, 487.0, 488.0, 489.0, 490.0, 491.0, 492.0, 493.0, 494.0, 495.0, 496.0, 497.0, 498.0, 499.0, 500.0, 501.0, 502.0, 503.0, 504.0, 505.0, 506.0, 507.0, 508.0, 509.0, 510.0, 511.0]\n",
            "[30.290040766967696, 30.6448828512975, 30.993926222187966, 31.337234805449317, 31.674872088202218, 32.00690112026122, 32.33338451551826, 32.65438445332613, 32.969962679881924, 33.28018050961055, 33.58509882654818, 33.88477808572574, 34.17927831455235, 34.46865911419884, 34.75297966098121, 35.032298707744076, 35.30667458524418, 35.576165203533854, 35.840828053344474, 36.10072020746996, 36.355898322150246, 36.60641863845473, 36.85233698366576, 37.093708772662126, 37.33058900930252, 37.56303228780901, 37.79109279415049, 38.01482430742619, 38.23428020124914, 38.44951344512964, 38.660576605858736, 38.867521848891656, 39.07040093973137, 39.26926524531198, 39.464165735382224, 39.655152983888954, 39.84227717036063, 40.02558808129074, 40.205135111521315, 40.380967265626396, 40.553133159295484, 40.721681020717064, 40.886658691962026, 41.048113630367155, 41.20609290991864, 41.36064322263547, 41.511810879953, 41.65964181410635, 41.80418157951394, 41.94547535416088, 42.08356794098253, 42.21850376924796, 42.35032689594337, 42.479081007155585, 42.60480941945557, 42.72755508128187, 42.84736057432407, 42.96426811490629, 43.078319555370676, 43.18955638546083, 43.29801973370531, 43.40375036880109, 43.50678870099708, 43.607174783477504, 43.70494831374549, 43.80014863500646, 43.89281473755162, 43.98298526014145, 44.07069849138918, 44.15599237114425, 44.23890449187579, 44.31947210005608, 44.39773209754405, 44.473721042968734, 44.54747515311274, 44.619030304295734, 44.68842203375793, 44.75568554104353, 44.82085568938422, 44.88396700708261, 44.94505368889578, 45.004149597418674, 45.06128826446762, 45.1165028924638, 45.16982635581668, 45.221291202307576, 45.27092965447301, 45.31877361098827, 45.36485464805089, 45.40920402076402, 45.45185266452003, 45.492831196383904, 45.53216991647673, 45.56989880935919, 45.606047545414995, 45.640645482234426, 45.673721665997725, 45.705304832858644, 45.73542341032784, 45.764105518656464, 45.79137897221949, 45.817271280899305, 45.84180965146915, 45.86502098897652, 45.88693189812679, 45.907568684666515, 45.926957356767076, 45.94512362640799, 45.96209291076049, 45.97789033357098, 45.992540726544476, 46.00606863072812, 46.018498297894624, 46.02985369192576, 46.04015849019581, 46.049436084955076, 46.057709584713336, 46.06500181562331, 46.071335322864144, 46.076732372024864, 46.08121495048789, 46.08480476881249, 46.0875232621182, 46.089391591468384, 46.09043064525369, 46.09066104057548, 46.090103124629294, 46.08877697608842, 46.08670240648726, 46.08389896160487, 46.080385922848414, 46.076182308636604, 46.071306875783236, 46.06577812088064, 46.059614281683125, 46.05283333849047, 46.04545301553141, 46.03749078234712, 46.02896385517464, 46.019889198330404, 46.01028352559365, 46.00016330159001, 45.989544743174804, 45.97844382081668, 45.96687625998101, 45.954857542513366, 45.94240290802304, 45.92952735526643, 45.9162456435306, 45.90257229401671, 45.88852159122345, 45.87410758433069, 45.85934408858269, 45.84424468667177, 45.82882273012174, 45.81309134067132, 45.79706341165766, 45.780751609399815, 45.7641683745822, 45.74732592363807, 45.73023625013299, 45.712911126148356, 45.69536210366475, 45.67760051594556, 45.65963747892033, 45.64148389256833, 45.62315044230196, 45.604647600350276, 45.58598562714239, 45.567174572691044, 45.54822427797602, 45.52914437632758, 45.509944294810026, 45.49063325560516, 45.47122027739566, 45.451714176748666, 45.432123569499225, 45.4124568721337, 45.392722303173315, 45.372927884557654, 45.35308144302803, 45.333190611511014, 45.313262830502, 45.293305349448445, 45.27332522813364, 45.25332933805993, 45.233324363832324, 45.21331680454192, 45.19331297514938, 45.173319007868514, 45.15334085354952, 45.133384283062654, 45.11345488868169, 45.09355808546725, 45.07369911265043, 45.05388303501627, 45.03411474428704, 45.01439896050597, 44.99474023342056, 44.97514294386609, 44.95561130514912, 44.93614936443092, 44.91676100411095, 44.89744994321042, 44.87821973875566, 44.85907378716159, 44.84001532561528, 44.82104743345934, 44.802173033575514, 44.783394893767934, 44.76471562814686, 44.74613769851186, 44.72766341573566, 44.70929494114722, 44.691034287915514, 44.672883322432796, 44.65484376569816, 44.636917194701084, 44.619105043804794, 44.601408606129766, 44.583829034937224, 44.56636734501252, 44.54902441404883, 44.53180098403041, 44.5146976626161, 44.49771492452287, 44.480853112909315, 44.46411244075907, 44.44749299226417, 44.430994724208816, 44.414617467352556, 44.398360927814, 44.382224688454, 44.366208210259416, 44.35031083372651, 44.334531780244276, 44.318870153478116, 44.303324940753114, 44.28789501443765, 44.272579133326914, 44.25737594402622, 44.242283982334556, 44.227301674628094, 44.2124273392437, 44.19765918786214, 44.18299532689194, 44.16843375885264, 44.153972383758216, 44.13960900050078, 44.12534130823367, 44.11116690775553, 44.09708330289308, 44.083087901885065, 44.06917801876561, 44.05535087474772, 44.041603599606546, 44.027933233063195, 44.01433672616791, 44.00081094268373, 43.98735266046988, 43.973958572865286, 43.96062529007202, 43.947349340538665, 43.934127172344105, 43.92095515458068, 43.907829578737775, 43.8947466600853, 43.88170253905716, 43.86869328263474, 43.85571488573041, 43.84276327257085, 43.8298342980807, 43.81692374926595, 43.80402734659744, 43.79114074539427, 43.778259537207404, 43.7653792512029, 43.75249535554576, 43.73960325878305, 43.72669831122758, 43.713775806341246, 43.7008309821186, 43.68785902247032, 43.67485505860661, 43.66181417042074, 43.64873138787256, 43.63560169237168, 43.62242001816156, 43.60918125370229, 43.59588024305444, 43.58251178726249, 43.569070645738364, 43.55555153764473, 43.541949143278586, 43.528258105454626, 43.514473030888894, 43.500588491582235, 43.48659902620352, 43.47249914147342, 43.458283313547724, 43.44394598940079, 43.42948158820924, 43.41488450273502, 43.40014910070933, 43.38526972621575, 43.37024070107398, 43.35505632622305, 43.339710883105, 43.32419863504835, 43.30851382865133, 43.29265069516572, 43.27660345187998, 43.260366303502934, 43.24393344354728, 43.22729905571278, 43.210457315270105, 43.19340239044398, 43.17612844379698, 43.158629633612634, 43.14090011527934, 43.12293404267314, 43.10472556954217, 43.08626885088938, 43.06755804435616, 43.04858731160597, 43.02935081970776, 43.00984274251941, 42.99005726207122, 42.96998856994924, 42.94963086867902, 42.928978373109004, 42.90802531179371, 42.8867659283777, 42.865194482978524, 42.84330525357076, 42.821092537368884, 42.79855065221129, 42.775673937943296, 42.7524567578011, 42.728893499794694, 42.7049785780919, 42.68070643440156, 42.65607153935677, 42.63106839389894, 42.605691530660735, 42.579935515349774, 42.55379494813229, 42.527264465016216, 42.50033873923479, 42.473012482630125, 42.44528044703682, 42.417137425665004, 42.38857825448429, 42.3595978136068, 42.33019102867087, 42.30035287222478, 42.27007836510958, 42.239362577843195, 42.208200632003695, 42.17658770161236, 42.144519014517954, 42.11198985377945, 42.078995559049986, 42.04553152795987, 42.01159321750089, 41.97717614540869, 41.94227589154704, 41.90688809929111, 41.871008476910845, 41.83463279895446, 41.797756907631964, 41.76037671419857, 41.722488200338404, 41.68408741954764, 41.6451704985181, 41.6057336385208, 41.565773116789416, 41.5252852879035, 41.484266585172634, 41.44271352201892, 41.40062269336127, 41.35799077699863, 41.31481453499313, 41.27109081505401, 41.22681655192105, 41.1819887687476, 41.13660457848479, 41.09066118526408, 41.04415588578149, 40.99708607068092, 40.94944922593737, 40.9012429342406, 40.852464876378605, 40.80311283262088, 40.75318468410239, 40.702678414206304, 40.651592109948325, 40.59992396335929, 40.54767227286965, 40.49483544469146, 40.44141199420375, 40.38740054733438, 40.33279984194448, 40.27760872921132, 40.2218261750121, 40.16545126130765, 40.10848318752514, 40.05092127194263, 39.99276495307157, 39.9340137910406, 39.874667468979226, 39.8147257944014, 39.75418870058823, 39.69305624797241, 39.63132862552095, 39.569006152119044, 39.50608927795369, 39.44257858589651, 39.37847479288794, 39.31377875132026, 39.248491450421284, 39.182614017637775, 39.11614772001846, 39.049093965598956, 38.981454304783426, 38.91323043172875, 38.84442418572863, 38.775037552596416, 38.70507266604855, 38.634531809088145, 38.56341741538887, 38.49173207067753, 38.41947851411831, 38.346659639696554, 38.27327849760076, 38.19933829560759, 38.1248424004647, 38.049794339273774, 37.97419780087537, 37.89805663723044, 37.821374864805875, 37.744156665956325, 37.66640639030854, 37.58812855614423, 37.50932785178492, 37.43000913697338, 37.35017744425875, 37.26983798037918, 37.188996127645595, 37.1076574453252, 37.02582767102473, 36.94351272207419, 36.86071869691003, 36.77745187645871, 36.69371872552097, 36.60952589415362, 36.52488021905452, 36.43978872494546, 36.35425862595585, 36.268297327005286, 36.1819124251889, 36.095111711158296, 36.00790317050823, 35.92029498515666, 35.83229553473035, 35.74391339794843, 35.65515735400447, 35.5660363839512, 35.47655967208365, 35.38673660732192, 35.29657678459574, 35.20609000622758, 35.11528628331567, 35.02417583711781, 34.93276910043468, 34.841076718994344, 34.74910955283366, 34.65687867768378, 34.564395386352345, 34.47167119010771, 34.37871782006175, 34.28554722855435, 34.192171590535025, 34.09860330494911, 34.00485499611844, 33.910939515126785, 33.816869941202526, 33.72265958310197, 33.62832198049327, 33.53387090533971, 33.439320363283, 33.34468459502776, 33.24997807772323, 33.15521552634743, 33.0604118950923, 32.96558237874464, 32.87074241407066, 32.77590768120041, 32.68109410500895, 32.586317856502546, 32.491595354200626, 32.3969432655185, 32.302378508152685, 32.207918251462786, 32.11357991785624, 32.01938118417118, 31.925339983059754, 31.83147450437124, 31.73780319653744, 31.644344767952983, 31.551118188362064]\n"
          ]
        }
      ],
      "source": [
        "print(times.tolist())\n",
        "print(y_predict.tolist())"
      ]
    },
    {
      "cell_type": "code",
      "execution_count": null,
      "metadata": {
        "id": "bW9cHdxXK9j2"
      },
      "outputs": [],
      "source": [
        "# 母数を削減してグラフを粗くすることでデータ量削減\n",
        "audio_time=[]\n",
        "audio_level=[]\n",
        "for i in range(len(times.tolist())):\n",
        "  if i % 100==0:\n",
        "    audio_time.append(times.tolist()[i])\n",
        "    audio_level.append(y_predict.tolist()[i])"
      ]
    },
    {
      "cell_type": "code",
      "execution_count": null,
      "metadata": {
        "colab": {
          "base_uri": "https://localhost:8080/"
        },
        "id": "de2u2NhXMzOW",
        "outputId": "9be6965f-cb87-40b1-baa0-cf199043229c"
      },
      "outputs": [
        {
          "data": {
            "text/plain": [
              "6"
            ]
          },
          "execution_count": 20,
          "metadata": {},
          "output_type": "execute_result"
        }
      ],
      "source": [
        "len(audio_time)"
      ]
    },
    {
      "cell_type": "code",
      "execution_count": 14,
      "metadata": {
        "colab": {
          "base_uri": "https://localhost:8080/",
          "height": 447
        },
        "id": "i8CYJusULyFY",
        "outputId": "8e5c0fe5-a03b-4db3-e4a1-341db2eae2a8"
      },
      "outputs": [
        {
          "ename": "NameError",
          "evalue": "name 'audio_time' is not defined",
          "output_type": "error",
          "traceback": [
            "\u001b[0;31m---------------------------------------------------------------------------\u001b[0m",
            "\u001b[0;31mNameError\u001b[0m                                 Traceback (most recent call last)",
            "\u001b[1;32m/Users/ishikawaritsuki/Desktop/IVRC/arduino/AudioAnalysis.ipynb セル 20\u001b[0m line \u001b[0;36m1\n\u001b[0;32m----> <a href='vscode-notebook-cell:/Users/ishikawaritsuki/Desktop/IVRC/arduino/AudioAnalysis.ipynb#X53sZmlsZQ%3D%3D?line=0'>1</a>\u001b[0m plt\u001b[39m.\u001b[39mplot(np\u001b[39m.\u001b[39marray(audio_time), np\u001b[39m.\u001b[39marray(audio_level), lw\u001b[39m=\u001b[39m\u001b[39m1\u001b[39m, c\u001b[39m=\u001b[39m\u001b[39m\"\u001b[39m\u001b[39mb\u001b[39m\u001b[39m\"\u001b[39m, alpha\u001b[39m=\u001b[39m\u001b[39m0.7\u001b[39m, ms\u001b[39m=\u001b[39m\u001b[39m2\u001b[39m)\n\u001b[1;32m      <a href='vscode-notebook-cell:/Users/ishikawaritsuki/Desktop/IVRC/arduino/AudioAnalysis.ipynb#X53sZmlsZQ%3D%3D?line=1'>2</a>\u001b[0m plt\u001b[39m.\u001b[39mplot(times, y_predict, lw\u001b[39m=\u001b[39m\u001b[39m1\u001b[39m, c\u001b[39m=\u001b[39m\u001b[39m\"\u001b[39m\u001b[39mr\u001b[39m\u001b[39m\"\u001b[39m, alpha\u001b[39m=\u001b[39m\u001b[39m0.7\u001b[39m, ms\u001b[39m=\u001b[39m\u001b[39m2\u001b[39m)\n",
            "\u001b[0;31mNameError\u001b[0m: name 'audio_time' is not defined"
          ]
        }
      ],
      "source": [
        "plt.plot(np.array(audio_time), np.array(audio_level), lw=1, c=\"b\", alpha=0.7, ms=2)\n",
        "plt.plot(times, y_predict, lw=1, c=\"r\", alpha=0.7, ms=2)"
      ]
    },
    {
      "cell_type": "code",
      "execution_count": 15,
      "metadata": {
        "id": "VeU2prOZ6rwj"
      },
      "outputs": [
        {
          "ename": "NameError",
          "evalue": "name 'audio_level' is not defined",
          "output_type": "error",
          "traceback": [
            "\u001b[0;31m---------------------------------------------------------------------------\u001b[0m",
            "\u001b[0;31mNameError\u001b[0m                                 Traceback (most recent call last)",
            "\u001b[1;32m/Users/ishikawaritsuki/Desktop/IVRC/arduino/AudioAnalysis.ipynb セル 21\u001b[0m line \u001b[0;36m5\n\u001b[1;32m      <a href='vscode-notebook-cell:/Users/ishikawaritsuki/Desktop/IVRC/arduino/AudioAnalysis.ipynb#X54sZmlsZQ%3D%3D?line=2'>3</a>\u001b[0m motor_max \u001b[39m=\u001b[39m \u001b[39m255\u001b[39m\n\u001b[1;32m      <a href='vscode-notebook-cell:/Users/ishikawaritsuki/Desktop/IVRC/arduino/AudioAnalysis.ipynb#X54sZmlsZQ%3D%3D?line=3'>4</a>\u001b[0m motor_min \u001b[39m=\u001b[39m \u001b[39m100\u001b[39m\n\u001b[0;32m----> <a href='vscode-notebook-cell:/Users/ishikawaritsuki/Desktop/IVRC/arduino/AudioAnalysis.ipynb#X54sZmlsZQ%3D%3D?line=4'>5</a>\u001b[0m audio_max \u001b[39m=\u001b[39m \u001b[39mmax\u001b[39m(audio_level)\n\u001b[1;32m      <a href='vscode-notebook-cell:/Users/ishikawaritsuki/Desktop/IVRC/arduino/AudioAnalysis.ipynb#X54sZmlsZQ%3D%3D?line=5'>6</a>\u001b[0m audio_min \u001b[39m=\u001b[39m \u001b[39mmin\u001b[39m(audio_level)\n\u001b[1;32m      <a href='vscode-notebook-cell:/Users/ishikawaritsuki/Desktop/IVRC/arduino/AudioAnalysis.ipynb#X54sZmlsZQ%3D%3D?line=6'>7</a>\u001b[0m dif_motor \u001b[39m=\u001b[39m motor_max \u001b[39m-\u001b[39m motor_min\n",
            "\u001b[0;31mNameError\u001b[0m: name 'audio_level' is not defined"
          ]
        }
      ],
      "source": [
        "# 波形データのスケール変換(波形の最大・最小をモーターの最大・最小速度へ変換)\n",
        "#i(モータの速度)の範囲　100<i<255\n",
        "motor_max = 255\n",
        "motor_min = 100\n",
        "audio_max = max(audio_level)\n",
        "audio_min = min(audio_level)\n",
        "dif_motor = motor_max - motor_min\n",
        "dif_audio = audio_max - audio_min\n",
        "audio_level_scalechange = []\n",
        "for level in audio_level:\n",
        "  audio_level_scalechange.append(motor_min + ((level - audio_min)/(audio_max - audio_min)) * (motor_max - motor_min))\n",
        "#print(\"max:{}, min:{}\".format(audio_max, audio_min))"
      ]
    },
    {
      "cell_type": "code",
      "execution_count": 38,
      "metadata": {
        "colab": {
          "base_uri": "https://localhost:8080/"
        },
        "id": "OKrFrH8nXekT",
        "outputId": "ac109f1a-b65e-42a9-92af-2046dc4ec5c6"
      },
      "outputs": [
        {
          "name": "stdout",
          "output_type": "stream",
          "text": [
            "for(i=100.0;i<255.0;i+=1.0){\n",
            "    analogWrite(PIN_IN12, i);\n",
            "    analogWrite(PIN_IN21, i);\n",
            "    delay(77.29151892417198);\n",
            "}\n",
            "for(i=255.0;i>246.6430448338958;i-=0.05391583978131742){\n",
            "    analogWrite(PIN_IN12, i);\n",
            "    analogWrite(PIN_IN21, i);\n",
            "    delay(77.29151892417198);\n",
            "}\n",
            "for(i=246.6430448338958;i>231.52769667243135;i-=0.09751837523525454){\n",
            "    analogWrite(PIN_IN12, i);\n",
            "    analogWrite(PIN_IN21, i);\n",
            "    delay(77.29151892417198);\n",
            "}\n",
            "for(i=231.52769667243135;i>201.50494875910164;i-=0.19369514782793362){\n",
            "    analogWrite(PIN_IN12, i);\n",
            "    analogWrite(PIN_IN21, i);\n",
            "    delay(77.29151892417198);\n",
            "}\n",
            "for(i=201.50494875910164;i>122.01364530615125;i-=0.5128471190512929){\n",
            "    analogWrite(PIN_IN12, i);\n",
            "    analogWrite(PIN_IN21, i);\n",
            "    delay(77.29151892417198);\n",
            "}\n",
            "Serial.println(\"終了\");\n"
          ]
        }
      ],
      "source": [
        "# audioのプログラム生成\n",
        "count = 0\n",
        "\n",
        "for i in range(len(audio_time)-1):\n",
        "  if audio_level_scalechange[i] <= audio_level_scalechange[i+1]:\n",
        "    j = audio_level_scalechange[i]\n",
        "    while(j<audio_level_scalechange[i+1]):\n",
        "      j+=((audio_level_scalechange[i+1]-audio_level_scalechange[i])/(motor_max-motor_min))\n",
        "      count+=1\n",
        "  else:\n",
        "    j = audio_level_scalechange[i]\n",
        "    while(j>audio_level_scalechange[i+1]):\n",
        "      j-=((audio_level_scalechange[i]-audio_level_scalechange[i+1])/(motor_max-motor_min))\n",
        "      count+=1\n",
        "\n",
        "count=count/1000\n",
        "for i in range(len(audio_time)-1):\n",
        "  if audio_level_scalechange[i] <= audio_level_scalechange[i+1]:\n",
        "    print(\"for(i={};i<{};i+={})\".format(audio_level_scalechange[i],audio_level_scalechange[i+1],((audio_level_scalechange[i+1]-audio_level_scalechange[i])/(motor_max-motor_min))) + \"{\")\n",
        "    print(\"    analogWrite(PIN_IN12, i);\")\n",
        "    print(\"    analogWrite(PIN_IN21, i);\")\n",
        "    print(\"    delay({});\".format(tme/count))\n",
        "    print(\"}\")\n",
        "  else:\n",
        "    print(\"for(i={};i>{};i-={})\".format(audio_level_scalechange[i],audio_level_scalechange[i+1],((audio_level_scalechange[i]-audio_level_scalechange[i+1])/(motor_max-motor_min))) + \"{\")\n",
        "    print(\"    analogWrite(PIN_IN12, i);\")\n",
        "    print(\"    analogWrite(PIN_IN21, i);\")\n",
        "    print(\"    delay({});\".format(tme/count))\n",
        "    print(\"}\")\n",
        "\n",
        "print(\"Serial.println(\\\"終了\\\");\")"
      ]
    }
  ],
  "metadata": {
    "accelerator": "GPU",
    "colab": {
      "gpuType": "T4",
      "provenance": []
    },
    "kernelspec": {
      "display_name": "Python 3",
      "name": "python3"
    },
    "language_info": {
      "codemirror_mode": {
        "name": "ipython",
        "version": 3
      },
      "file_extension": ".py",
      "mimetype": "text/x-python",
      "name": "python",
      "nbconvert_exporter": "python",
      "pygments_lexer": "ipython3",
      "version": "3.10.6"
    }
  },
  "nbformat": 4,
  "nbformat_minor": 0
}
