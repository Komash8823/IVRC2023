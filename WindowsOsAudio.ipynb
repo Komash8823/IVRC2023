{
 "cells": [
  {
   "cell_type": "code",
   "execution_count": 3,
   "metadata": {},
   "outputs": [
    {
     "ename": "KeyboardInterrupt",
     "evalue": "",
     "output_type": "error",
     "traceback": [
      "\u001b[0;31m---------------------------------------------------------------------------\u001b[0m",
      "\u001b[0;31mKeyboardInterrupt\u001b[0m                         Traceback (most recent call last)",
      "\u001b[1;32m/Users/ishikawaritsuki/Desktop/IVRC/arduino/WindowsOsAudio.ipynb セル 1\u001b[0m line \u001b[0;36m1\n\u001b[1;32m      <a href='vscode-notebook-cell:/Users/ishikawaritsuki/Desktop/IVRC/arduino/WindowsOsAudio.ipynb#W0sZmlsZQ%3D%3D?line=6'>7</a>\u001b[0m sig, sr \u001b[39m=\u001b[39m sf\u001b[39m.\u001b[39mread(filepath, always_2d\u001b[39m=\u001b[39m\u001b[39mTrue\u001b[39;00m)\n\u001b[1;32m      <a href='vscode-notebook-cell:/Users/ishikawaritsuki/Desktop/IVRC/arduino/WindowsOsAudio.ipynb#W0sZmlsZQ%3D%3D?line=7'>8</a>\u001b[0m sd\u001b[39m.\u001b[39mplay(sig, sr)\n\u001b[0;32m---> <a href='vscode-notebook-cell:/Users/ishikawaritsuki/Desktop/IVRC/arduino/WindowsOsAudio.ipynb#W0sZmlsZQ%3D%3D?line=9'>10</a>\u001b[0m sd\u001b[39m.\u001b[39;49mwait() \u001b[39m# sd.playが完了するのを待つ\u001b[39;00m\n\u001b[1;32m     <a href='vscode-notebook-cell:/Users/ishikawaritsuki/Desktop/IVRC/arduino/WindowsOsAudio.ipynb#W0sZmlsZQ%3D%3D?line=10'>11</a>\u001b[0m \u001b[39mprint\u001b[39m(\u001b[39m\"\u001b[39m\u001b[39mEnd\u001b[39m\u001b[39m\"\u001b[39m)\n",
      "File \u001b[0;32m~/.pyenv/versions/3.10.6/lib/python3.10/site-packages/sounddevice.py:395\u001b[0m, in \u001b[0;36mwait\u001b[0;34m(ignore_errors)\u001b[0m\n\u001b[1;32m    379\u001b[0m \u001b[39m\"\"\"Wait for `play()`/`rec()`/`playrec()` to be finished.\u001b[39;00m\n\u001b[1;32m    380\u001b[0m \n\u001b[1;32m    381\u001b[0m \u001b[39mPlayback/recording can be stopped with a `KeyboardInterrupt`.\u001b[39;00m\n\u001b[0;32m   (...)\u001b[0m\n\u001b[1;32m    392\u001b[0m \n\u001b[1;32m    393\u001b[0m \u001b[39m\"\"\"\u001b[39;00m\n\u001b[1;32m    394\u001b[0m \u001b[39mif\u001b[39;00m _last_callback:\n\u001b[0;32m--> 395\u001b[0m     \u001b[39mreturn\u001b[39;00m _last_callback\u001b[39m.\u001b[39;49mwait(ignore_errors)\n",
      "File \u001b[0;32m~/.pyenv/versions/3.10.6/lib/python3.10/site-packages/sounddevice.py:2601\u001b[0m, in \u001b[0;36m_CallbackContext.wait\u001b[0;34m(self, ignore_errors)\u001b[0m\n\u001b[1;32m   2595\u001b[0m \u001b[39m\"\"\"Wait for finished_callback.\u001b[39;00m\n\u001b[1;32m   2596\u001b[0m \n\u001b[1;32m   2597\u001b[0m \u001b[39mCan be interrupted with a KeyboardInterrupt.\u001b[39;00m\n\u001b[1;32m   2598\u001b[0m \n\u001b[1;32m   2599\u001b[0m \u001b[39m\"\"\"\u001b[39;00m\n\u001b[1;32m   2600\u001b[0m \u001b[39mtry\u001b[39;00m:\n\u001b[0;32m-> 2601\u001b[0m     \u001b[39mself\u001b[39;49m\u001b[39m.\u001b[39;49mevent\u001b[39m.\u001b[39;49mwait()\n\u001b[1;32m   2602\u001b[0m \u001b[39mfinally\u001b[39;00m:\n\u001b[1;32m   2603\u001b[0m     \u001b[39mself\u001b[39m\u001b[39m.\u001b[39mstream\u001b[39m.\u001b[39mclose(ignore_errors)\n",
      "File \u001b[0;32m~/.pyenv/versions/3.10.6/lib/python3.10/threading.py:607\u001b[0m, in \u001b[0;36mEvent.wait\u001b[0;34m(self, timeout)\u001b[0m\n\u001b[1;32m    605\u001b[0m signaled \u001b[39m=\u001b[39m \u001b[39mself\u001b[39m\u001b[39m.\u001b[39m_flag\n\u001b[1;32m    606\u001b[0m \u001b[39mif\u001b[39;00m \u001b[39mnot\u001b[39;00m signaled:\n\u001b[0;32m--> 607\u001b[0m     signaled \u001b[39m=\u001b[39m \u001b[39mself\u001b[39;49m\u001b[39m.\u001b[39;49m_cond\u001b[39m.\u001b[39;49mwait(timeout)\n\u001b[1;32m    608\u001b[0m \u001b[39mreturn\u001b[39;00m signaled\n",
      "File \u001b[0;32m~/.pyenv/versions/3.10.6/lib/python3.10/threading.py:320\u001b[0m, in \u001b[0;36mCondition.wait\u001b[0;34m(self, timeout)\u001b[0m\n\u001b[1;32m    318\u001b[0m \u001b[39mtry\u001b[39;00m:    \u001b[39m# restore state no matter what (e.g., KeyboardInterrupt)\u001b[39;00m\n\u001b[1;32m    319\u001b[0m     \u001b[39mif\u001b[39;00m timeout \u001b[39mis\u001b[39;00m \u001b[39mNone\u001b[39;00m:\n\u001b[0;32m--> 320\u001b[0m         waiter\u001b[39m.\u001b[39;49macquire()\n\u001b[1;32m    321\u001b[0m         gotit \u001b[39m=\u001b[39m \u001b[39mTrue\u001b[39;00m\n\u001b[1;32m    322\u001b[0m     \u001b[39melse\u001b[39;00m:\n",
      "\u001b[0;31mKeyboardInterrupt\u001b[0m: "
     ]
    }
   ],
   "source": [
    "import sounddevice as sd\n",
    "import soundfile as sf\n",
    "\n",
    "\n",
    "filepath = \"./rain.mp3\"\n",
    "# sig: 信号, sr: サンプリング周波数\n",
    "sig, sr = sf.read(filepath, always_2d=True)\n",
    "sd.play(sig, sr)\n",
    "\n",
    "sd.wait() # sd.playが完了するのを待つ\n",
    "print(\"End\")"
   ]
  },
  {
   "cell_type": "code",
   "execution_count": null,
   "metadata": {},
   "outputs": [],
   "source": []
  },
  {
   "cell_type": "code",
   "execution_count": 3,
   "metadata": {},
   "outputs": [
    {
     "name": "stdout",
     "output_type": "stream",
     "text": [
      "Open Port\n",
      "Close Port\n"
     ]
    }
   ],
   "source": [
    "import serial\n",
    "import sounddevice as sd\n",
    "import soundfile as sf\n",
    "\n",
    "filepath_tears = \"./tears.mp3\"\n",
    "filepath_rain = \"./rain.mp3\"\n",
    "sig1, sr1 = sf.read(filepath_tears, always_2d=True)\n",
    "sig2, sr2 = sf.read(filepath_rain, always_2d=True)\n",
    "\n",
    "def main():\n",
    "    #  COMポートを開く\n",
    "    print(\"Open Port\")\n",
    "    ser = serial.Serial(\"COM9\", 9600)\n",
    "    while True:\n",
    "        num = input()\n",
    "        if num==\"0\":\n",
    "            ser.write(b\"0\")\n",
    "            sd.stop()\n",
    "        elif num==\"1\":#キャリブレーションモード\n",
    "            ser.write(b\"1\")\n",
    "        elif num==\"2\":#涙モード\n",
    "            sd.play(sig1, sr1)\n",
    "            ser.write(b\"2\")\n",
    "        elif num==\"3\":#雨モード\n",
    "            sd.play(sig2, sr2)\n",
    "            ser.write(b\"3\")\n",
    "        else:\n",
    "            break\n",
    "        \n",
    "\n",
    "    print(\"Close Port\")\n",
    "    ser.close()\n",
    "\n",
    "if __name__ == '__main__':\n",
    "    main()"
   ]
  },
  {
   "cell_type": "markdown",
   "metadata": {},
   "source": []
  }
 ],
 "metadata": {
  "kernelspec": {
   "display_name": "Python 3",
   "language": "python",
   "name": "python3"
  },
  "language_info": {
   "codemirror_mode": {
    "name": "ipython",
    "version": 3
   },
   "file_extension": ".py",
   "mimetype": "text/x-python",
   "name": "python",
   "nbconvert_exporter": "python",
   "pygments_lexer": "ipython3",
   "version": "3.10.6"
  },
  "orig_nbformat": 4
 },
 "nbformat": 4,
 "nbformat_minor": 2
}
