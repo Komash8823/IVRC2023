{
 "cells": [
  {
   "cell_type": "code",
   "execution_count": 4,
   "metadata": {},
   "outputs": [
    {
     "name": "stdout",
     "output_type": "stream",
     "text": [
      "Open Port\n"
     ]
    },
    {
     "name": "stdout",
     "output_type": "stream",
     "text": [
      "Close Port\n"
     ]
    }
   ],
   "source": [
    "import serial\n",
    "from MusicControl import MusicControl\n",
    "\n",
    "filepath_tears = \"./tears.mp3\"\n",
    "filepath_rain = \"./rain.mp3\"\n",
    "\n",
    "def main():\n",
    "    #  COMポートを開く\n",
    "    print(\"Open Port\")\n",
    "    ser = serial.Serial(\"/dev/cu.usbmodem14501\", 9600)\n",
    "    music = MusicControl()\n",
    "    while True:\n",
    "        num = input()\n",
    "        if num==\"0\":\n",
    "            ser.write(b\"0\")\n",
    "            music.stop()\n",
    "        elif num==\"1\":#キャリブレーションモード\n",
    "            ser.write(b\"1\")\n",
    "        elif num==\"2\":#涙モード\n",
    "            music.play()\n",
    "            ser.write(b\"2\")\n",
    "        elif num==\"3\":#雨モード\n",
    "            music.play()\n",
    "            ser.write(b\"3\")\n",
    "        elif num==\"5\":#テストモード\n",
    "            music.play()\n",
    "            ser.write(b\"5\")\n",
    "        else:\n",
    "            break\n",
    "        \n",
    "\n",
    "    print(\"Close Port\")\n",
    "    ser.close()\n",
    "\n",
    "if __name__ == '__main__':\n",
    "    main()\n"
   ]
  }
 ],
 "metadata": {
  "kernelspec": {
   "display_name": "Python 3",
   "language": "python",
   "name": "python3"
  },
  "language_info": {
   "codemirror_mode": {
    "name": "ipython",
    "version": 3
   },
   "file_extension": ".py",
   "mimetype": "text/x-python",
   "name": "python",
   "nbconvert_exporter": "python",
   "pygments_lexer": "ipython3",
   "version": "3.10.6"
  },
  "orig_nbformat": 4
 },
 "nbformat": 4,
 "nbformat_minor": 2
}
